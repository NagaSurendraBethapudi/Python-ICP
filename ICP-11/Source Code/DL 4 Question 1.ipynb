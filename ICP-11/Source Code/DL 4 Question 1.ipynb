{
 "cells": [
  {
   "cell_type": "markdown",
   "id": "authentic-dubai",
   "metadata": {},
   "source": [
    "## DL 4 Question 1:\n",
    "Follow the instruction below and then report how the performance changed.(apply all at once)\n",
    "1. Convolutional input layer, 32 feature maps with a size of 3×3 and a rectifier activation function.\n",
    "2. Dropout layer at 20%.\n",
    "3. Convolutional layer, 32 feature maps with a size of 3×3 and a rectifier activation function.\n",
    "4. Max Pool layer with size 2×2.\n",
    "5. Convolutional layer, 64 feature maps with a size of 3×3 and a rectifier activation function.\n",
    "6. Dropout layer at 20%.\n",
    "7. Convolutional layer, 64 feature maps with a size of 3×3 and a rectifier activation function.\n",
    "8. Max Pool layer with size 2×2.\n",
    "9. Convolutional layer, 128feature maps with a size of 3×3 and a rectifier activation function.\n",
    "10. Dropout layer at 20%.\n",
    "11. Convolutional layer,128 feature maps with a size of 3×3 and a rectifier activation function.\n",
    "12. Max Pool layer with size 2×2.\n",
    "13. Flatten layer.\n",
    "14. Dropout layer at 20%.\n",
    "15. Fully connected layer with 1024units and a rectifier activation function.\n",
    "16. Dropout layerat 20%.\n",
    "17. Fully connected layer with 512units and a rectifier activation function.\n",
    "18. Dropoutlayer at 20%\n",
    "19. Fully connected output layer with 10 units and a Softmax activation function"
   ]
  },
  {
   "cell_type": "code",
   "execution_count": 1,
   "id": "median-blank",
   "metadata": {},
   "outputs": [],
   "source": [
    "# Importing the Libraries\n",
    "import numpy\n",
    "import keras\n",
    "from keras.datasets import cifar10\n",
    "from keras.models import Sequential\n",
    "from keras.layers import Dense\n",
    "from keras.layers import Dropout\n",
    "from keras.layers import Flatten\n",
    "from keras.constraints import maxnorm\n",
    "from keras.optimizers import SGD\n",
    "from keras.layers.convolutional import Conv2D\n",
    "from keras.layers.convolutional import MaxPooling2D\n",
    "from keras.utils import np_utils\n",
    "from keras import backend as K\n",
    "import matplotlib.pyplot as plt"
   ]
  },
  {
   "cell_type": "code",
   "execution_count": 2,
   "id": "manufactured-protocol",
   "metadata": {},
   "outputs": [],
   "source": [
    "# fix random seed for reproducibility\n",
    "seed = 7\n",
    "numpy.random.seed(seed)"
   ]
  },
  {
   "cell_type": "code",
   "execution_count": 3,
   "id": "fluid-chester",
   "metadata": {},
   "outputs": [],
   "source": [
    "# load data\n",
    "(X_train, y_train), (X_test, y_test) = cifar10.load_data()"
   ]
  },
  {
   "cell_type": "code",
   "execution_count": 4,
   "id": "electrical-clinic",
   "metadata": {},
   "outputs": [],
   "source": [
    "# normalize inputs from 0-255 to 0.0-1.0\n",
    "X_train = X_train.astype('float32')\n",
    "X_test = X_test.astype('float32')\n",
    "X_train = X_train / 255.0\n",
    "X_test = X_test / 255.0"
   ]
  },
  {
   "cell_type": "code",
   "execution_count": 5,
   "id": "hydraulic-bahamas",
   "metadata": {},
   "outputs": [],
   "source": [
    "# one hot encode outputs\n",
    "y_train = np_utils.to_categorical(y_train)\n",
    "y_test = np_utils.to_categorical(y_test)\n",
    "num_classes = y_test.shape[1]"
   ]
  },
  {
   "cell_type": "code",
   "execution_count": 6,
   "id": "crucial-weapon",
   "metadata": {},
   "outputs": [],
   "source": [
    "# Create the model\n",
    "model = Sequential()\n",
    "model.add(Conv2D(32, (3, 3), input_shape=(32, 32, 3), padding='same', activation='relu', kernel_constraint=maxnorm(3)))\n",
    "model.add(Dropout(0.2))\n",
    "model.add(Conv2D(32, (3, 3), activation='relu', padding='same', kernel_constraint=maxnorm(3)))\n",
    "model.add(MaxPooling2D(pool_size=(2, 2)))\n",
    "model.add(Flatten())\n",
    "model.add(Dense(512, activation='relu', kernel_constraint=maxnorm(3)))\n",
    "model.add(Dropout(0.5))\n",
    "model.add(Dense(10, activation='softmax'))"
   ]
  },
  {
   "cell_type": "code",
   "execution_count": 7,
   "id": "lesbian-composer",
   "metadata": {},
   "outputs": [
    {
     "name": "stdout",
     "output_type": "stream",
     "text": [
      "Model: \"sequential\"\n",
      "_________________________________________________________________\n",
      "Layer (type)                 Output Shape              Param #   \n",
      "=================================================================\n",
      "conv2d (Conv2D)              (None, 32, 32, 32)        896       \n",
      "_________________________________________________________________\n",
      "dropout (Dropout)            (None, 32, 32, 32)        0         \n",
      "_________________________________________________________________\n",
      "conv2d_1 (Conv2D)            (None, 32, 32, 32)        9248      \n",
      "_________________________________________________________________\n",
      "max_pooling2d (MaxPooling2D) (None, 16, 16, 32)        0         \n",
      "_________________________________________________________________\n",
      "flatten (Flatten)            (None, 8192)              0         \n",
      "_________________________________________________________________\n",
      "dense (Dense)                (None, 512)               4194816   \n",
      "_________________________________________________________________\n",
      "dropout_1 (Dropout)          (None, 512)               0         \n",
      "_________________________________________________________________\n",
      "dense_1 (Dense)              (None, 10)                5130      \n",
      "=================================================================\n",
      "Total params: 4,210,090\n",
      "Trainable params: 4,210,090\n",
      "Non-trainable params: 0\n",
      "_________________________________________________________________\n",
      "None\n"
     ]
    }
   ],
   "source": [
    "# Compile model\n",
    "epochs = 25\n",
    "lrate = 0.01\n",
    "decay = lrate/epochs\n",
    "sgd = SGD(lr=lrate, momentum=0.9, decay=decay, nesterov=False)\n",
    "model.compile(loss='categorical_crossentropy', optimizer=sgd, metrics=['accuracy'])\n",
    "print(model.summary())"
   ]
  },
  {
   "cell_type": "code",
   "execution_count": 8,
   "id": "numerous-employer",
   "metadata": {},
   "outputs": [
    {
     "name": "stdout",
     "output_type": "stream",
     "text": [
      "Epoch 1/25\n",
      "1563/1563 [==============================] - 122s 78ms/step - loss: 1.7030 - accuracy: 0.3837 - val_loss: 1.4261 - val_accuracy: 0.4927\n",
      "Epoch 2/25\n",
      "1563/1563 [==============================] - 125s 80ms/step - loss: 1.3867 - accuracy: 0.5021 - val_loss: 1.2995 - val_accuracy: 0.5501\n",
      "Epoch 3/25\n",
      "1563/1563 [==============================] - 131s 84ms/step - loss: 1.2276 - accuracy: 0.5593 - val_loss: 1.1476 - val_accuracy: 0.5921\n",
      "Epoch 4/25\n",
      "1563/1563 [==============================] - 134s 86ms/step - loss: 1.0949 - accuracy: 0.6075 - val_loss: 1.0609 - val_accuracy: 0.6266\n",
      "Epoch 5/25\n",
      "1563/1563 [==============================] - 132s 84ms/step - loss: 0.9862 - accuracy: 0.6460 - val_loss: 1.0204 - val_accuracy: 0.6411\n",
      "Epoch 6/25\n",
      "1563/1563 [==============================] - 130s 83ms/step - loss: 0.8950 - accuracy: 0.6828 - val_loss: 0.9796 - val_accuracy: 0.6562\n",
      "Epoch 7/25\n",
      "1563/1563 [==============================] - 131s 84ms/step - loss: 0.8198 - accuracy: 0.7071 - val_loss: 0.9534 - val_accuracy: 0.6682\n",
      "Epoch 8/25\n",
      "1563/1563 [==============================] - 130s 83ms/step - loss: 0.7560 - accuracy: 0.7317 - val_loss: 0.9433 - val_accuracy: 0.6753\n",
      "Epoch 9/25\n",
      "1563/1563 [==============================] - 131s 84ms/step - loss: 0.6986 - accuracy: 0.7543 - val_loss: 0.9084 - val_accuracy: 0.6864\n",
      "Epoch 10/25\n",
      "1563/1563 [==============================] - 125s 80ms/step - loss: 0.6384 - accuracy: 0.7725 - val_loss: 0.9119 - val_accuracy: 0.6885\n",
      "Epoch 11/25\n",
      "1563/1563 [==============================] - 124s 79ms/step - loss: 0.5922 - accuracy: 0.7917 - val_loss: 0.9223 - val_accuracy: 0.6903\n",
      "Epoch 12/25\n",
      "1563/1563 [==============================] - 129s 82ms/step - loss: 0.5435 - accuracy: 0.8066 - val_loss: 0.9195 - val_accuracy: 0.6923\n",
      "Epoch 13/25\n",
      "1563/1563 [==============================] - 126s 81ms/step - loss: 0.5075 - accuracy: 0.8199 - val_loss: 0.9101 - val_accuracy: 0.6981\n",
      "Epoch 14/25\n",
      "1563/1563 [==============================] - 125s 80ms/step - loss: 0.4693 - accuracy: 0.8337 - val_loss: 0.9241 - val_accuracy: 0.6990\n",
      "Epoch 15/25\n",
      "1563/1563 [==============================] - 127s 81ms/step - loss: 0.4343 - accuracy: 0.8460 - val_loss: 0.9442 - val_accuracy: 0.7017\n",
      "Epoch 16/25\n",
      "1563/1563 [==============================] - 128s 82ms/step - loss: 0.4096 - accuracy: 0.8559 - val_loss: 0.9462 - val_accuracy: 0.7016\n",
      "Epoch 17/25\n",
      "1563/1563 [==============================] - 131s 84ms/step - loss: 0.3800 - accuracy: 0.8671 - val_loss: 0.9592 - val_accuracy: 0.7021\n",
      "Epoch 18/25\n",
      "1563/1563 [==============================] - 129s 82ms/step - loss: 0.3602 - accuracy: 0.8745 - val_loss: 0.9726 - val_accuracy: 0.7049\n",
      "Epoch 19/25\n",
      "1563/1563 [==============================] - 132s 84ms/step - loss: 0.3328 - accuracy: 0.8823 - val_loss: 0.9944 - val_accuracy: 0.7033\n",
      "Epoch 20/25\n",
      "1563/1563 [==============================] - 132s 84ms/step - loss: 0.3225 - accuracy: 0.8872 - val_loss: 1.0079 - val_accuracy: 0.7050\n",
      "Epoch 21/25\n",
      "1563/1563 [==============================] - 132s 84ms/step - loss: 0.2948 - accuracy: 0.8959 - val_loss: 1.0126 - val_accuracy: 0.7075\n",
      "Epoch 22/25\n",
      "1563/1563 [==============================] - 135s 86ms/step - loss: 0.2781 - accuracy: 0.9032 - val_loss: 1.0241 - val_accuracy: 0.7045\n",
      "Epoch 23/25\n",
      "1563/1563 [==============================] - 132s 85ms/step - loss: 0.2688 - accuracy: 0.9063 - val_loss: 1.0443 - val_accuracy: 0.7053\n",
      "Epoch 24/25\n",
      "1563/1563 [==============================] - 152s 97ms/step - loss: 0.2558 - accuracy: 0.9117 - val_loss: 1.0314 - val_accuracy: 0.7146\n",
      "Epoch 25/25\n",
      "1563/1563 [==============================] - 172s 110ms/step - loss: 0.2403 - accuracy: 0.9175 - val_loss: 1.0392 - val_accuracy: 0.7111\n"
     ]
    }
   ],
   "source": [
    "# Fit the model\n",
    "history = model.fit(X_train, y_train, validation_data=(X_test, y_test), epochs=epochs, batch_size=32)"
   ]
  },
  {
   "cell_type": "code",
   "execution_count": 9,
   "id": "occupied-beverage",
   "metadata": {},
   "outputs": [
    {
     "name": "stdout",
     "output_type": "stream",
     "text": [
      "Accuracy: 71.11%\n"
     ]
    }
   ],
   "source": [
    "# Final evaluation of the model\n",
    "scores = model.evaluate(X_test, y_test, verbose=0)\n",
    "print(\"Accuracy: %.2f%%\" % (scores[1]*100))"
   ]
  },
  {
   "cell_type": "code",
   "execution_count": 10,
   "id": "organic-profit",
   "metadata": {},
   "outputs": [
    {
     "data": {
      "text/plain": [
       "dict_keys(['loss', 'accuracy', 'val_loss', 'val_accuracy'])"
      ]
     },
     "execution_count": 10,
     "metadata": {},
     "output_type": "execute_result"
    }
   ],
   "source": [
    "#Listing all the data in history (Call Backs)\n",
    "history.history.keys()"
   ]
  },
  {
   "cell_type": "code",
   "execution_count": 11,
   "id": "ignored-public",
   "metadata": {},
   "outputs": [
    {
     "data": {
      "image/png": "[encoded data removed]",
      "text/plain": [
       "<Figure size 432x288 with 1 Axes>"
      ]
     },
     "metadata": {
      "needs_background": "light"
     },
     "output_type": "display_data"
    }
   ],
   "source": [
    "# Plotting the loss for both training data and validation data using the history object.\n",
    "plt.plot(history.history['loss'])\n",
    "plt.plot(history.history['val_loss'])\n",
    "plt.title('Loss data comparison')\n",
    "plt.legend(['train', 'test'], loc='upper right')\n",
    "plt.xlabel('epoch')\n",
    "plt.ylabel('Loss')\n",
    "plt.show()"
   ]
  },
  {
   "cell_type": "markdown",
   "id": "thorough-salmon",
   "metadata": {},
   "source": [
    "#### Observations :\n",
    "1. Loss of the model is 10%"
   ]
  },
  {
   "cell_type": "code",
   "execution_count": 13,
   "id": "familiar-eugene",
   "metadata": {},
   "outputs": [
    {
     "data": {
      "image/png": "[encoded data removed]",
      "text/plain": [
       "<Figure size 432x288 with 1 Axes>"
      ]
     },
     "metadata": {
      "needs_background": "light"
     },
     "output_type": "display_data"
    }
   ],
   "source": [
    "\n",
    "# Plotting the Accuracy for both training data and validation data using the history object.\n",
    "plt.plot(history.history['accuracy'])\n",
    "plt.plot(history.history['val_accuracy'])\n",
    "plt.legend(['train', 'test'], loc='lower right')\n",
    "plt.title('Accuracy data comparison')\n",
    "plt.ylabel('Accuracy')\n",
    "plt.xlabel('epoch')\n",
    "plt.show()"
   ]
  },
  {
   "cell_type": "markdown",
   "id": "guilty-stamp",
   "metadata": {},
   "source": [
    "#### Observations:\n",
    "1. Accuracy of the model is around 71%"
   ]
  },
  {
   "cell_type": "code",
   "execution_count": 14,
   "id": "alleged-daniel",
   "metadata": {},
   "outputs": [],
   "source": [
    "# Create the model\n",
    "model = Sequential()\n",
    "model.add(Conv2D(32, (3, 3), input_shape=(32, 32, 3), padding='same', activation='relu', kernel_constraint=maxnorm(3)))\n",
    "model.add(Dropout(0.2))\n",
    "model.add(Conv2D(32, (3, 3), activation='relu', padding='same', kernel_constraint=maxnorm(3)))\n",
    "model.add(MaxPooling2D(pool_size=(2, 2)))\n",
    "model.add(Conv2D(64, (3, 3), activation='relu', padding='same', kernel_constraint=maxnorm(3)))\n",
    "model.add(Dropout(0.2))\n",
    "model.add(Conv2D(64, (3, 3), activation='relu', padding='same', kernel_constraint=maxnorm(3)))\n",
    "model.add(MaxPooling2D(pool_size=(2, 2)))\n",
    "model.add(Conv2D(128, (3, 3), activation='relu', padding='same', kernel_constraint=maxnorm(3)))\n",
    "model.add(Dropout(0.2))\n",
    "model.add(Conv2D(128, (3, 3), activation='relu', padding='same', kernel_constraint=maxnorm(3)))\n",
    "model.add(MaxPooling2D(pool_size=(2, 2)))\n",
    "model.add(Flatten())\n",
    "model.add(Dropout(0.2))\n",
    "model.add(Dense(1024, activation='relu', kernel_constraint=maxnorm(3)))\n",
    "model.add(Dropout(0.2))\n",
    "model.add(Dense(512, activation='relu', kernel_constraint=maxnorm(3)))\n",
    "model.add(Dropout(0.2))\n",
    "model.add(Dense(10, activation='softmax'))"
   ]
  },
  {
   "cell_type": "code",
   "execution_count": 15,
   "id": "physical-salad",
   "metadata": {},
   "outputs": [
    {
     "name": "stdout",
     "output_type": "stream",
     "text": [
      "Model: \"sequential_1\"\n",
      "_________________________________________________________________\n",
      "Layer (type)                 Output Shape              Param #   \n",
      "=================================================================\n",
      "conv2d_2 (Conv2D)            (None, 32, 32, 32)        896       \n",
      "_________________________________________________________________\n",
      "dropout_2 (Dropout)          (None, 32, 32, 32)        0         \n",
      "_________________________________________________________________\n",
      "conv2d_3 (Conv2D)            (None, 32, 32, 32)        9248      \n",
      "_________________________________________________________________\n",
      "max_pooling2d_1 (MaxPooling2 (None, 16, 16, 32)        0         \n",
      "_________________________________________________________________\n",
      "conv2d_4 (Conv2D)            (None, 16, 16, 64)        18496     \n",
      "_________________________________________________________________\n",
      "dropout_3 (Dropout)          (None, 16, 16, 64)        0         \n",
      "_________________________________________________________________\n",
      "conv2d_5 (Conv2D)            (None, 16, 16, 64)        36928     \n",
      "_________________________________________________________________\n",
      "max_pooling2d_2 (MaxPooling2 (None, 8, 8, 64)          0         \n",
      "_________________________________________________________________\n",
      "conv2d_6 (Conv2D)            (None, 8, 8, 128)         73856     \n",
      "_________________________________________________________________\n",
      "dropout_4 (Dropout)          (None, 8, 8, 128)         0         \n",
      "_________________________________________________________________\n",
      "conv2d_7 (Conv2D)            (None, 8, 8, 128)         147584    \n",
      "_________________________________________________________________\n",
      "max_pooling2d_3 (MaxPooling2 (None, 4, 4, 128)         0         \n",
      "_________________________________________________________________\n",
      "flatten_1 (Flatten)          (None, 2048)              0         \n",
      "_________________________________________________________________\n",
      "dropout_5 (Dropout)          (None, 2048)              0         \n",
      "_________________________________________________________________\n",
      "dense_2 (Dense)              (None, 1024)              2098176   \n",
      "_________________________________________________________________\n",
      "dropout_6 (Dropout)          (None, 1024)              0         \n",
      "_________________________________________________________________\n",
      "dense_3 (Dense)              (None, 512)               524800    \n",
      "_________________________________________________________________\n",
      "dropout_7 (Dropout)          (None, 512)               0         \n",
      "_________________________________________________________________\n",
      "dense_4 (Dense)              (None, 10)                5130      \n",
      "=================================================================\n",
      "Total params: 2,915,114\n",
      "Trainable params: 2,915,114\n",
      "Non-trainable params: 0\n",
      "_________________________________________________________________\n",
      "None\n"
     ]
    }
   ],
   "source": [
    "# Compile model\n",
    "epochs = 25\n",
    "lrate = 0.01\n",
    "decay = lrate/epochs\n",
    "sgd = SGD(lr=lrate, momentum=0.9, decay=decay, nesterov=False)\n",
    "model.compile(loss='categorical_crossentropy', optimizer=sgd, metrics=['accuracy'])\n",
    "print(model.summary())"
   ]
  },
  {
   "cell_type": "code",
   "execution_count": 16,
   "id": "opened-donor",
   "metadata": {},
   "outputs": [
    {
     "name": "stdout",
     "output_type": "stream",
     "text": [
      "Epoch 1/25\n",
      "1563/1563 [==============================] - 212s 135ms/step - loss: 1.9715 - accuracy: 0.2687 - val_loss: 1.7703 - val_accuracy: 0.3586\n",
      "Epoch 2/25\n",
      "1563/1563 [==============================] - 220s 141ms/step - loss: 1.4947 - accuracy: 0.4548 - val_loss: 1.3773 - val_accuracy: 0.4889\n",
      "Epoch 3/25\n",
      "1563/1563 [==============================] - 196s 125ms/step - loss: 1.2969 - accuracy: 0.5290 - val_loss: 1.1744 - val_accuracy: 0.5728\n",
      "Epoch 4/25\n",
      "1563/1563 [==============================] - 203s 130ms/step - loss: 1.1540 - accuracy: 0.5852 - val_loss: 1.0807 - val_accuracy: 0.6080\n",
      "Epoch 5/25\n",
      "1563/1563 [==============================] - 224s 143ms/step - loss: 1.0319 - accuracy: 0.6330 - val_loss: 0.9843 - val_accuracy: 0.6476\n",
      "Epoch 6/25\n",
      "1563/1563 [==============================] - 196s 125ms/step - loss: 0.9393 - accuracy: 0.6653 - val_loss: 0.9089 - val_accuracy: 0.6780\n",
      "Epoch 7/25\n",
      "1563/1563 [==============================] - 204s 130ms/step - loss: 0.8744 - accuracy: 0.6882 - val_loss: 0.8336 - val_accuracy: 0.7061\n",
      "Epoch 8/25\n",
      "1563/1563 [==============================] - 204s 130ms/step - loss: 0.8095 - accuracy: 0.7110 - val_loss: 0.8533 - val_accuracy: 0.7064\n",
      "Epoch 9/25\n",
      "1563/1563 [==============================] - 196s 126ms/step - loss: 0.7595 - accuracy: 0.7311 - val_loss: 0.7605 - val_accuracy: 0.7372\n",
      "Epoch 10/25\n",
      "1563/1563 [==============================] - 212s 135ms/step - loss: 0.7190 - accuracy: 0.7433 - val_loss: 0.7577 - val_accuracy: 0.7360\n",
      "Epoch 11/25\n",
      "1563/1563 [==============================] - 203s 130ms/step - loss: 0.6763 - accuracy: 0.7625 - val_loss: 0.7222 - val_accuracy: 0.7501\n",
      "Epoch 12/25\n",
      "1563/1563 [==============================] - 221s 141ms/step - loss: 0.6485 - accuracy: 0.7702 - val_loss: 0.7206 - val_accuracy: 0.7526\n",
      "Epoch 13/25\n",
      "1563/1563 [==============================] - 213s 136ms/step - loss: 0.6174 - accuracy: 0.7814 - val_loss: 0.7154 - val_accuracy: 0.7523\n",
      "Epoch 14/25\n",
      "1563/1563 [==============================] - 214s 137ms/step - loss: 0.5898 - accuracy: 0.7894 - val_loss: 0.6749 - val_accuracy: 0.7664\n",
      "Epoch 15/25\n",
      "1563/1563 [==============================] - 200s 128ms/step - loss: 0.5625 - accuracy: 0.7997 - val_loss: 0.6827 - val_accuracy: 0.7661\n",
      "Epoch 16/25\n",
      "1563/1563 [==============================] - 197s 126ms/step - loss: 0.5417 - accuracy: 0.8078 - val_loss: 0.6563 - val_accuracy: 0.7742\n",
      "Epoch 17/25\n",
      "1563/1563 [==============================] - 196s 125ms/step - loss: 0.5167 - accuracy: 0.8188 - val_loss: 0.6603 - val_accuracy: 0.7736\n",
      "Epoch 18/25\n",
      "1563/1563 [==============================] - 194s 124ms/step - loss: 0.4988 - accuracy: 0.8229 - val_loss: 0.6444 - val_accuracy: 0.7806\n",
      "Epoch 19/25\n",
      "1563/1563 [==============================] - 200s 128ms/step - loss: 0.4811 - accuracy: 0.8274 - val_loss: 0.6421 - val_accuracy: 0.7833\n",
      "Epoch 20/25\n",
      "1563/1563 [==============================] - 201s 129ms/step - loss: 0.4656 - accuracy: 0.8342 - val_loss: 0.6609 - val_accuracy: 0.7804\n",
      "Epoch 21/25\n",
      "1563/1563 [==============================] - 194s 124ms/step - loss: 0.4483 - accuracy: 0.8408 - val_loss: 0.6579 - val_accuracy: 0.7800\n",
      "Epoch 22/25\n",
      "1563/1563 [==============================] - 190s 122ms/step - loss: 0.4335 - accuracy: 0.8450 - val_loss: 0.6358 - val_accuracy: 0.7838\n",
      "Epoch 23/25\n",
      "1563/1563 [==============================] - 196s 126ms/step - loss: 0.4186 - accuracy: 0.8499 - val_loss: 0.6419 - val_accuracy: 0.7841\n",
      "Epoch 24/25\n",
      "1563/1563 [==============================] - 195s 125ms/step - loss: 0.4057 - accuracy: 0.8547 - val_loss: 0.6328 - val_accuracy: 0.7926\n",
      "Epoch 25/25\n",
      "1563/1563 [==============================] - 197s 126ms/step - loss: 0.3963 - accuracy: 0.8572 - val_loss: 0.6229 - val_accuracy: 0.7910\n"
     ]
    }
   ],
   "source": [
    "# Fit the model\n",
    "history = model.fit(X_train, y_train, validation_data=(X_test, y_test), epochs=epochs, batch_size=32)"
   ]
  },
  {
   "cell_type": "code",
   "execution_count": 23,
   "id": "stuck-dealing",
   "metadata": {},
   "outputs": [
    {
     "name": "stdout",
     "output_type": "stream",
     "text": [
      "Accuracy: 79.10%\n"
     ]
    }
   ],
   "source": [
    "# Final evaluation of the model\n",
    "scores = model.evaluate(X_test, y_test, verbose=0)\n",
    "print(\"Accuracy: %.2f%%\" % (scores[1]*100))"
   ]
  },
  {
   "cell_type": "code",
   "execution_count": 18,
   "id": "unusual-arrest",
   "metadata": {},
   "outputs": [],
   "source": [
    "model.save('convolution_model.h5')"
   ]
  },
  {
   "cell_type": "code",
   "execution_count": 19,
   "id": "exotic-extra",
   "metadata": {},
   "outputs": [
    {
     "data": {
      "text/plain": [
       "dict_keys(['loss', 'accuracy', 'val_loss', 'val_accuracy'])"
      ]
     },
     "execution_count": 19,
     "metadata": {},
     "output_type": "execute_result"
    }
   ],
   "source": [
    "#Listing all the data in history (Call Backs)\n",
    "history.history.keys()"
   ]
  },
  {
   "cell_type": "code",
   "execution_count": 20,
   "id": "superior-mystery",
   "metadata": {},
   "outputs": [
    {
     "data": {
      "image/png": "[encoded data removed]",
      "text/plain": [
       "<Figure size 432x288 with 1 Axes>"
      ]
     },
     "metadata": {
      "needs_background": "light"
     },
     "output_type": "display_data"
    }
   ],
   "source": [
    "# Plotting the loss for both training data and validation data using the history object.\n",
    "plt.plot(history.history['loss'])\n",
    "plt.plot(history.history['val_loss'])\n",
    "plt.title('Loss data comparison')\n",
    "plt.legend(['train', 'test'], loc='upper right')\n",
    "plt.xlabel('epoch')\n",
    "plt.ylabel('Loss')\n",
    "plt.show()"
   ]
  },
  {
   "cell_type": "markdown",
   "id": "governing-tennis",
   "metadata": {},
   "source": [
    "#### Observations :\n",
    "1. Loss of the model is 8%"
   ]
  },
  {
   "cell_type": "code",
   "execution_count": 21,
   "id": "horizontal-bidding",
   "metadata": {},
   "outputs": [
    {
     "data": {
      "image/png": "[encoded data removed]",
      "text/plain": [
       "<Figure size 432x288 with 1 Axes>"
      ]
     },
     "metadata": {
      "needs_background": "light"
     },
     "output_type": "display_data"
    }
   ],
   "source": [
    "\n",
    "# Plotting the Accuracy for both training data and validation data using the history object.\n",
    "plt.plot(history.history['accuracy'])\n",
    "plt.plot(history.history['val_accuracy'])\n",
    "plt.legend(['train', 'test'], loc='lower right')\n",
    "plt.title('Accuracy data comparison')\n",
    "plt.ylabel('Accuracy')\n",
    "plt.xlabel('epoch')\n",
    "plt.show()"
   ]
  },
  {
   "cell_type": "markdown",
   "id": "consolidated-investment",
   "metadata": {},
   "source": [
    "#### Observations:\n",
    "1. Accuracy of the model is around 79%"
   ]
  },
  {
   "cell_type": "markdown",
   "id": "interim-childhood",
   "metadata": {},
   "source": [
    "## Observations :\n",
    "1. Loss of the model is decreased by adding more layers.\n",
    "2. Accuracy of the model is increased by adding more layers."
   ]
  }
 ],
 "metadata": {
  "kernelspec": {
   "display_name": "Python 3",
   "language": "python",
   "name": "python3"
  },
  "language_info": {
   "codemirror_mode": {
    "name": "ipython",
    "version": 3
   },
   "file_extension": ".py",
   "mimetype": "text/x-python",
   "name": "python",
   "nbconvert_exporter": "python",
   "pygments_lexer": "ipython3",
   "version": "3.8.8"
  }
 },
 "nbformat": 4,
 "nbformat_minor": 5
}
