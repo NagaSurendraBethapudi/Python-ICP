{
 "cells": [
  {
   "cell_type": "markdown",
   "metadata": {},
   "source": [
    "## Predict Glass type using Linear SVM:\n",
    "\n",
    "Table of contents :\n",
    "1. Importing Libraries\n",
    "2. Importing Dataset\n",
    "3. Peek into Data\n",
    "4. Split data into train and test dataframes.\n",
    "5. Finding accuracy Linear SVM model\n",
    "6. Performing correlation\n",
    "7. Finding accuracy again"
   ]
  },
  {
   "cell_type": "markdown",
   "metadata": {},
   "source": [
    "#### 1.Importing libraries"
   ]
  },
  {
   "cell_type": "code",
   "execution_count": 1,
   "metadata": {},
   "outputs": [],
   "source": [
    "import pandas as pd\n",
    "import numpy as np\n",
    "import seaborn as sns\n",
    "from sklearn.svm import SVC, LinearSVC\n",
    "from sklearn.metrics import confusion_matrix\n",
    "from sklearn.metrics import accuracy_score\n",
    "from sklearn.model_selection import train_test_split\n",
    "import matplotlib.pyplot as plt\n",
    "from sklearn.metrics import classification_report, r2_score"
   ]
  },
  {
   "cell_type": "markdown",
   "metadata": {},
   "source": [
    "#### 2.Importing Dataset"
   ]
  },
  {
   "cell_type": "code",
   "execution_count": 2,
   "metadata": {},
   "outputs": [],
   "source": [
    "glass_df = pd.read_csv('glass.csv')"
   ]
  },
  {
   "cell_type": "markdown",
   "metadata": {},
   "source": [
    "#### 3.Peek into Data\n",
    "##### a.glass_df.columns.values -- gives the column names\n",
    "##### b.glass_df.Type.value_counts() -- gives the unique count of Type column\n",
    "##### c.glass_df.head() -- gives first five rows of data frame.\n",
    "##### d.glass_df.describe() -- gives the mean, standard deviation, min and max values for int type features\n",
    "##### e.glass_df.isnull().sum() -- gives the total number of null rows in a column"
   ]
  },
  {
   "cell_type": "code",
   "execution_count": 3,
   "metadata": {},
   "outputs": [
    {
     "data": {
      "text/plain": [
       "array(['RI', 'Na', 'Mg', 'Al', 'Si', 'K', 'Ca', 'Ba', 'Fe', 'Type'],\n",
       "      dtype=object)"
      ]
     },
     "execution_count": 3,
     "metadata": {},
     "output_type": "execute_result"
    }
   ],
   "source": [
    "glass_df.columns.values"
   ]
  },
  {
   "cell_type": "code",
   "execution_count": 4,
   "metadata": {},
   "outputs": [
    {
     "data": {
      "text/plain": [
       "2    76\n",
       "1    70\n",
       "7    29\n",
       "3    17\n",
       "5    13\n",
       "6     9\n",
       "Name: Type, dtype: int64"
      ]
     },
     "execution_count": 4,
     "metadata": {},
     "output_type": "execute_result"
    }
   ],
   "source": [
    "glass_df.Type.value_counts()"
   ]
  },
  {
   "cell_type": "code",
   "execution_count": 5,
   "metadata": {},
   "outputs": [
    {
     "data": {
      "text/html": [
       "<div>\n",
       "<style scoped>\n",
       "    .dataframe tbody tr th:only-of-type {\n",
       "        vertical-align: middle;\n",
       "    }\n",
       "\n",
       "    .dataframe tbody tr th {\n",
       "        vertical-align: top;\n",
       "    }\n",
       "\n",
       "    .dataframe thead th {\n",
       "        text-align: right;\n",
       "    }\n",
       "</style>\n",
       "<table border=\"1\" class=\"dataframe\">\n",
       "  <thead>\n",
       "    <tr style=\"text-align: right;\">\n",
       "      <th></th>\n",
       "      <th>RI</th>\n",
       "      <th>Na</th>\n",
       "      <th>Mg</th>\n",
       "      <th>Al</th>\n",
       "      <th>Si</th>\n",
       "      <th>K</th>\n",
       "      <th>Ca</th>\n",
       "      <th>Ba</th>\n",
       "      <th>Fe</th>\n",
       "      <th>Type</th>\n",
       "    </tr>\n",
       "  </thead>\n",
       "  <tbody>\n",
       "    <tr>\n",
       "      <th>0</th>\n",
       "      <td>1.52101</td>\n",
       "      <td>13.64</td>\n",
       "      <td>4.49</td>\n",
       "      <td>1.10</td>\n",
       "      <td>71.78</td>\n",
       "      <td>0.06</td>\n",
       "      <td>8.75</td>\n",
       "      <td>0.0</td>\n",
       "      <td>0.0</td>\n",
       "      <td>1</td>\n",
       "    </tr>\n",
       "    <tr>\n",
       "      <th>1</th>\n",
       "      <td>1.51761</td>\n",
       "      <td>13.89</td>\n",
       "      <td>3.60</td>\n",
       "      <td>1.36</td>\n",
       "      <td>72.73</td>\n",
       "      <td>0.48</td>\n",
       "      <td>7.83</td>\n",
       "      <td>0.0</td>\n",
       "      <td>0.0</td>\n",
       "      <td>1</td>\n",
       "    </tr>\n",
       "    <tr>\n",
       "      <th>2</th>\n",
       "      <td>1.51618</td>\n",
       "      <td>13.53</td>\n",
       "      <td>3.55</td>\n",
       "      <td>1.54</td>\n",
       "      <td>72.99</td>\n",
       "      <td>0.39</td>\n",
       "      <td>7.78</td>\n",
       "      <td>0.0</td>\n",
       "      <td>0.0</td>\n",
       "      <td>1</td>\n",
       "    </tr>\n",
       "    <tr>\n",
       "      <th>3</th>\n",
       "      <td>1.51766</td>\n",
       "      <td>13.21</td>\n",
       "      <td>3.69</td>\n",
       "      <td>1.29</td>\n",
       "      <td>72.61</td>\n",
       "      <td>0.57</td>\n",
       "      <td>8.22</td>\n",
       "      <td>0.0</td>\n",
       "      <td>0.0</td>\n",
       "      <td>1</td>\n",
       "    </tr>\n",
       "    <tr>\n",
       "      <th>4</th>\n",
       "      <td>1.51742</td>\n",
       "      <td>13.27</td>\n",
       "      <td>3.62</td>\n",
       "      <td>1.24</td>\n",
       "      <td>73.08</td>\n",
       "      <td>0.55</td>\n",
       "      <td>8.07</td>\n",
       "      <td>0.0</td>\n",
       "      <td>0.0</td>\n",
       "      <td>1</td>\n",
       "    </tr>\n",
       "  </tbody>\n",
       "</table>\n",
       "</div>"
      ],
      "text/plain": [
       "        RI     Na    Mg    Al     Si     K    Ca   Ba   Fe  Type\n",
       "0  1.52101  13.64  4.49  1.10  71.78  0.06  8.75  0.0  0.0     1\n",
       "1  1.51761  13.89  3.60  1.36  72.73  0.48  7.83  0.0  0.0     1\n",
       "2  1.51618  13.53  3.55  1.54  72.99  0.39  7.78  0.0  0.0     1\n",
       "3  1.51766  13.21  3.69  1.29  72.61  0.57  8.22  0.0  0.0     1\n",
       "4  1.51742  13.27  3.62  1.24  73.08  0.55  8.07  0.0  0.0     1"
      ]
     },
     "execution_count": 5,
     "metadata": {},
     "output_type": "execute_result"
    }
   ],
   "source": [
    "glass_df.head()"
   ]
  },
  {
   "cell_type": "code",
   "execution_count": 6,
   "metadata": {},
   "outputs": [
    {
     "data": {
      "text/html": [
       "<div>\n",
       "<style scoped>\n",
       "    .dataframe tbody tr th:only-of-type {\n",
       "        vertical-align: middle;\n",
       "    }\n",
       "\n",
       "    .dataframe tbody tr th {\n",
       "        vertical-align: top;\n",
       "    }\n",
       "\n",
       "    .dataframe thead th {\n",
       "        text-align: right;\n",
       "    }\n",
       "</style>\n",
       "<table border=\"1\" class=\"dataframe\">\n",
       "  <thead>\n",
       "    <tr style=\"text-align: right;\">\n",
       "      <th></th>\n",
       "      <th>RI</th>\n",
       "      <th>Na</th>\n",
       "      <th>Mg</th>\n",
       "      <th>Al</th>\n",
       "      <th>Si</th>\n",
       "      <th>K</th>\n",
       "      <th>Ca</th>\n",
       "      <th>Ba</th>\n",
       "      <th>Fe</th>\n",
       "      <th>Type</th>\n",
       "    </tr>\n",
       "  </thead>\n",
       "  <tbody>\n",
       "    <tr>\n",
       "      <th>count</th>\n",
       "      <td>214.000000</td>\n",
       "      <td>214.000000</td>\n",
       "      <td>214.000000</td>\n",
       "      <td>214.000000</td>\n",
       "      <td>214.000000</td>\n",
       "      <td>214.000000</td>\n",
       "      <td>214.000000</td>\n",
       "      <td>214.000000</td>\n",
       "      <td>214.000000</td>\n",
       "      <td>214.000000</td>\n",
       "    </tr>\n",
       "    <tr>\n",
       "      <th>mean</th>\n",
       "      <td>1.518365</td>\n",
       "      <td>13.407850</td>\n",
       "      <td>2.684533</td>\n",
       "      <td>1.444907</td>\n",
       "      <td>72.650935</td>\n",
       "      <td>0.497056</td>\n",
       "      <td>8.956963</td>\n",
       "      <td>0.175047</td>\n",
       "      <td>0.057009</td>\n",
       "      <td>2.780374</td>\n",
       "    </tr>\n",
       "    <tr>\n",
       "      <th>std</th>\n",
       "      <td>0.003037</td>\n",
       "      <td>0.816604</td>\n",
       "      <td>1.442408</td>\n",
       "      <td>0.499270</td>\n",
       "      <td>0.774546</td>\n",
       "      <td>0.652192</td>\n",
       "      <td>1.423153</td>\n",
       "      <td>0.497219</td>\n",
       "      <td>0.097439</td>\n",
       "      <td>2.103739</td>\n",
       "    </tr>\n",
       "    <tr>\n",
       "      <th>min</th>\n",
       "      <td>1.511150</td>\n",
       "      <td>10.730000</td>\n",
       "      <td>0.000000</td>\n",
       "      <td>0.290000</td>\n",
       "      <td>69.810000</td>\n",
       "      <td>0.000000</td>\n",
       "      <td>5.430000</td>\n",
       "      <td>0.000000</td>\n",
       "      <td>0.000000</td>\n",
       "      <td>1.000000</td>\n",
       "    </tr>\n",
       "    <tr>\n",
       "      <th>25%</th>\n",
       "      <td>1.516523</td>\n",
       "      <td>12.907500</td>\n",
       "      <td>2.115000</td>\n",
       "      <td>1.190000</td>\n",
       "      <td>72.280000</td>\n",
       "      <td>0.122500</td>\n",
       "      <td>8.240000</td>\n",
       "      <td>0.000000</td>\n",
       "      <td>0.000000</td>\n",
       "      <td>1.000000</td>\n",
       "    </tr>\n",
       "    <tr>\n",
       "      <th>50%</th>\n",
       "      <td>1.517680</td>\n",
       "      <td>13.300000</td>\n",
       "      <td>3.480000</td>\n",
       "      <td>1.360000</td>\n",
       "      <td>72.790000</td>\n",
       "      <td>0.555000</td>\n",
       "      <td>8.600000</td>\n",
       "      <td>0.000000</td>\n",
       "      <td>0.000000</td>\n",
       "      <td>2.000000</td>\n",
       "    </tr>\n",
       "    <tr>\n",
       "      <th>75%</th>\n",
       "      <td>1.519157</td>\n",
       "      <td>13.825000</td>\n",
       "      <td>3.600000</td>\n",
       "      <td>1.630000</td>\n",
       "      <td>73.087500</td>\n",
       "      <td>0.610000</td>\n",
       "      <td>9.172500</td>\n",
       "      <td>0.000000</td>\n",
       "      <td>0.100000</td>\n",
       "      <td>3.000000</td>\n",
       "    </tr>\n",
       "    <tr>\n",
       "      <th>max</th>\n",
       "      <td>1.533930</td>\n",
       "      <td>17.380000</td>\n",
       "      <td>4.490000</td>\n",
       "      <td>3.500000</td>\n",
       "      <td>75.410000</td>\n",
       "      <td>6.210000</td>\n",
       "      <td>16.190000</td>\n",
       "      <td>3.150000</td>\n",
       "      <td>0.510000</td>\n",
       "      <td>7.000000</td>\n",
       "    </tr>\n",
       "  </tbody>\n",
       "</table>\n",
       "</div>"
      ],
      "text/plain": [
       "               RI          Na          Mg          Al          Si           K  \\\n",
       "count  214.000000  214.000000  214.000000  214.000000  214.000000  214.000000   \n",
       "mean     1.518365   13.407850    2.684533    1.444907   72.650935    0.497056   \n",
       "std      0.003037    0.816604    1.442408    0.499270    0.774546    0.652192   \n",
       "min      1.511150   10.730000    0.000000    0.290000   69.810000    0.000000   \n",
       "25%      1.516523   12.907500    2.115000    1.190000   72.280000    0.122500   \n",
       "50%      1.517680   13.300000    3.480000    1.360000   72.790000    0.555000   \n",
       "75%      1.519157   13.825000    3.600000    1.630000   73.087500    0.610000   \n",
       "max      1.533930   17.380000    4.490000    3.500000   75.410000    6.210000   \n",
       "\n",
       "               Ca          Ba          Fe        Type  \n",
       "count  214.000000  214.000000  214.000000  214.000000  \n",
       "mean     8.956963    0.175047    0.057009    2.780374  \n",
       "std      1.423153    0.497219    0.097439    2.103739  \n",
       "min      5.430000    0.000000    0.000000    1.000000  \n",
       "25%      8.240000    0.000000    0.000000    1.000000  \n",
       "50%      8.600000    0.000000    0.000000    2.000000  \n",
       "75%      9.172500    0.000000    0.100000    3.000000  \n",
       "max     16.190000    3.150000    0.510000    7.000000  "
      ]
     },
     "execution_count": 6,
     "metadata": {},
     "output_type": "execute_result"
    }
   ],
   "source": [
    "glass_df.describe()"
   ]
  },
  {
   "cell_type": "code",
   "execution_count": 7,
   "metadata": {},
   "outputs": [
    {
     "data": {
      "text/plain": [
       "RI      0\n",
       "Na      0\n",
       "Mg      0\n",
       "Al      0\n",
       "Si      0\n",
       "K       0\n",
       "Ca      0\n",
       "Ba      0\n",
       "Fe      0\n",
       "Type    0\n",
       "dtype: int64"
      ]
     },
     "execution_count": 7,
     "metadata": {},
     "output_type": "execute_result"
    }
   ],
   "source": [
    "glass_df.isnull().sum()"
   ]
  },
  {
   "cell_type": "markdown",
   "metadata": {},
   "source": [
    "#### 4.Split data into train and test dataframes\n",
    "By using train_test_split data will be divided"
   ]
  },
  {
   "cell_type": "code",
   "execution_count": 8,
   "metadata": {},
   "outputs": [
    {
     "name": "stdout",
     "output_type": "stream",
     "text": [
      "Shape of training data\n",
      "(171, 9) (171,)\n",
      "**************************************************\n",
      "Shape of test data\n",
      "(43, 9) (43,)\n"
     ]
    }
   ],
   "source": [
    "glass_df_x = glass_df.drop(['Type'],axis = 1)\n",
    "glass_df_y = glass_df['Type']\n",
    "\n",
    "x_train,x_test,y_train,y_test = train_test_split(glass_df_x,glass_df_y,test_size = 0.2,random_state = 100)\n",
    "\n",
    "print('Shape of training data')\n",
    "print(x_train.shape,y_train.shape)\n",
    "print('*'*50)\n",
    "print('Shape of test data')\n",
    "print(x_test.shape,y_test.shape)"
   ]
  },
  {
   "cell_type": "markdown",
   "metadata": {},
   "source": [
    "#### 5.Finding accuracy Linear SVM model"
   ]
  },
  {
   "cell_type": "code",
   "execution_count": 9,
   "metadata": {},
   "outputs": [
    {
     "name": "stdout",
     "output_type": "stream",
     "text": [
      "confusion matrix :  [[ 9  1  0  0  0  0]\n",
      " [ 8 11  0  0  0  0]\n",
      " [ 2  1  0  0  0  0]\n",
      " [ 0  0  0  4  0  1]\n",
      " [ 0  0  0  0  1  0]\n",
      " [ 0  1  0  0  0  4]]\n",
      "**************************************************\n",
      "accuracy score : 67.44 %\n",
      "number of correctly classified samples:  29\n",
      "**************************************************\n",
      "classification report :                precision    recall  f1-score   support\n",
      "\n",
      "           1       0.47      0.90      0.62        10\n",
      "           2       0.79      0.58      0.67        19\n",
      "           3       0.00      0.00      0.00         3\n",
      "           5       1.00      0.80      0.89         5\n",
      "           6       1.00      1.00      1.00         1\n",
      "           7       0.80      0.80      0.80         5\n",
      "\n",
      "    accuracy                           0.67        43\n",
      "   macro avg       0.68      0.68      0.66        43\n",
      "weighted avg       0.69      0.67      0.66        43\n",
      "\n"
     ]
    },
    {
     "name": "stderr",
     "output_type": "stream",
     "text": [
      "D:\\Anaconda\\lib\\site-packages\\sklearn\\metrics\\_classification.py:1221: UndefinedMetricWarning: Precision and F-score are ill-defined and being set to 0.0 in labels with no predicted samples. Use `zero_division` parameter to control this behavior.\n",
      "  _warn_prf(average, modifier, msg_start, len(result))\n"
     ]
    }
   ],
   "source": [
    "model = SVC(kernel='linear',C=1).fit(x_train,y_train)\n",
    "y_pred = model.predict(x_test)\n",
    "print('confusion matrix : ' ,confusion_matrix(y_test,y_pred))\n",
    "print('*'*50)\n",
    "print('accuracy score :',round(accuracy_score(y_test,y_pred)*100,2),'%')\n",
    "print('number of correctly classified samples: ' ,accuracy_score(y_test, y_pred, normalize=False))\n",
    "print('*'*50)\n",
    "print('classification report : ' ,classification_report(y_test,y_pred))"
   ]
  },
  {
   "cell_type": "markdown",
   "metadata": {},
   "source": [
    "##### since the accuracy is low (67.44%) we will include only highest correlated features and try running model again"
   ]
  },
  {
   "cell_type": "markdown",
   "metadata": {},
   "source": [
    "#### 6.Performing correlation "
   ]
  },
  {
   "cell_type": "code",
   "execution_count": 10,
   "metadata": {},
   "outputs": [
    {
     "name": "stdout",
     "output_type": "stream",
     "text": [
      "Correlation betwween Ba and Type\n",
      "      Ba    Type\n",
      "0   0.00  2.1875\n",
      "1   0.06  2.0000\n",
      "2   0.09  1.5000\n",
      "3   0.11  1.5000\n",
      "4   0.14  2.0000\n",
      "5   0.15  3.0000\n",
      "6   0.24  5.0000\n",
      "7   0.27  2.0000\n",
      "8   0.40  7.0000\n",
      "9   0.53  7.0000\n",
      "10  0.54  7.0000\n",
      "11  0.56  7.0000\n",
      "12  0.61  7.0000\n",
      "13  0.63  7.0000\n",
      "14  0.64  7.0000\n",
      "15  0.66  7.0000\n",
      "16  0.67  7.0000\n",
      "17  0.69  1.0000\n",
      "18  0.76  7.0000\n",
      "19  0.81  7.0000\n",
      "20  1.06  7.0000\n",
      "21  1.19  7.0000\n",
      "22  1.38  7.0000\n",
      "23  1.55  7.0000\n",
      "24  1.57  7.0000\n",
      "25  1.59  7.0000\n",
      "26  1.63  7.0000\n",
      "27  1.64  7.0000\n",
      "28  1.67  7.0000\n",
      "29  1.68  7.0000\n",
      "30  1.71  7.0000\n",
      "31  2.20  5.0000\n",
      "32  2.88  7.0000\n",
      "33  3.15  2.0000\n",
      "**************************************************\n",
      "Correlation betwween Fe and Type\n",
      "      Fe      Type\n",
      "0   0.00  3.048611\n",
      "1   0.01  7.000000\n",
      "2   0.03  1.000000\n",
      "3   0.05  7.000000\n",
      "4   0.06  1.000000\n",
      "5   0.07  3.000000\n",
      "6   0.08  4.500000\n",
      "7   0.09  3.666667\n",
      "8   0.10  2.000000\n",
      "9   0.11  1.000000\n",
      "10  0.12  2.000000\n",
      "11  0.14  1.666667\n",
      "12  0.15  2.000000\n",
      "13  0.16  1.000000\n",
      "14  0.17  1.714286\n",
      "15  0.18  2.000000\n",
      "16  0.19  1.500000\n",
      "17  0.20  2.000000\n",
      "18  0.21  2.000000\n",
      "19  0.22  1.666667\n",
      "20  0.24  1.714286\n",
      "21  0.25  2.000000\n",
      "22  0.26  1.000000\n",
      "23  0.28  3.000000\n",
      "24  0.29  2.000000\n",
      "25  0.30  1.000000\n",
      "26  0.31  1.000000\n",
      "27  0.32  2.000000\n",
      "28  0.34  2.000000\n",
      "29  0.35  2.000000\n",
      "30  0.37  3.000000\n",
      "31  0.51  5.000000\n",
      "**************************************************\n",
      "Correlation betwween RI and Type\n",
      "          RI  Type\n",
      "0    1.51115   6.0\n",
      "1    1.51131   7.0\n",
      "2    1.51215   1.0\n",
      "3    1.51299   6.0\n",
      "4    1.51316   5.0\n",
      "..       ...   ...\n",
      "173  1.52725   2.0\n",
      "174  1.52739   2.0\n",
      "175  1.52777   2.0\n",
      "176  1.53125   2.0\n",
      "177  1.53393   2.0\n",
      "\n",
      "[178 rows x 2 columns]\n",
      "**************************************************\n",
      "Correlation betwween Na and Type\n",
      "        Na  Type\n",
      "0    10.73   2.0\n",
      "1    11.02   2.0\n",
      "2    11.03   5.0\n",
      "3    11.23   2.0\n",
      "4    11.45   2.0\n",
      "..     ...   ...\n",
      "137  14.99   6.0\n",
      "138  15.01   7.0\n",
      "139  15.15   7.0\n",
      "140  15.79   7.0\n",
      "141  17.38   6.0\n",
      "\n",
      "[142 rows x 2 columns]\n",
      "**************************************************\n",
      "Correlation betwween Mg and Type\n",
      "      Mg      Type\n",
      "0   0.00  5.523810\n",
      "1   0.33  5.000000\n",
      "2   0.78  6.000000\n",
      "3   1.01  2.000000\n",
      "4   1.35  2.000000\n",
      "..   ...       ...\n",
      "89  3.90  2.333333\n",
      "90  3.93  2.000000\n",
      "91  3.97  2.000000\n",
      "92  3.98  2.000000\n",
      "93  4.49  1.000000\n",
      "\n",
      "[94 rows x 2 columns]\n"
     ]
    }
   ],
   "source": [
    "print('Correlation betwween Ba and Type')\n",
    "print(glass_df[['Ba','Type']].groupby(['Ba'],as_index = False).mean().sort_values(by = 'Ba', ascending = 'True'))\n",
    "print('*'*50)\n",
    "print('Correlation betwween Fe and Type')\n",
    "print(glass_df[['Fe','Type']].groupby(['Fe'],as_index = False).mean().sort_values(by = 'Fe', ascending = 'True'))\n",
    "print('*'*50)\n",
    "print('Correlation betwween RI and Type')\n",
    "print(glass_df[['RI','Type']].groupby(['RI'],as_index = False).mean().sort_values(by = 'RI', ascending = 'True'))\n",
    "print('*'*50)\n",
    "print('Correlation betwween Na and Type')\n",
    "print(glass_df[['Na','Type']].groupby(['Na'],as_index = False).mean().sort_values(by = 'Na', ascending = 'True'))\n",
    "print('*'*50)\n",
    "print('Correlation betwween Mg and Type')\n",
    "print(glass_df[['Mg','Type']].groupby(['Mg'],as_index = False).mean().sort_values(by = 'Mg', ascending = 'True'))"
   ]
  },
  {
   "cell_type": "markdown",
   "metadata": {},
   "source": [
    "#### We could see many null values in Ba and Fe , so we can remove those and will try running Linear SVM"
   ]
  },
  {
   "cell_type": "code",
   "execution_count": 11,
   "metadata": {},
   "outputs": [
    {
     "data": {
      "text/html": [
       "<div>\n",
       "<style scoped>\n",
       "    .dataframe tbody tr th:only-of-type {\n",
       "        vertical-align: middle;\n",
       "    }\n",
       "\n",
       "    .dataframe tbody tr th {\n",
       "        vertical-align: top;\n",
       "    }\n",
       "\n",
       "    .dataframe thead th {\n",
       "        text-align: right;\n",
       "    }\n",
       "</style>\n",
       "<table border=\"1\" class=\"dataframe\">\n",
       "  <thead>\n",
       "    <tr style=\"text-align: right;\">\n",
       "      <th></th>\n",
       "      <th>RI</th>\n",
       "      <th>Na</th>\n",
       "      <th>Mg</th>\n",
       "      <th>Al</th>\n",
       "      <th>Si</th>\n",
       "      <th>K</th>\n",
       "      <th>Ca</th>\n",
       "      <th>Ba</th>\n",
       "      <th>Fe</th>\n",
       "      <th>Type</th>\n",
       "    </tr>\n",
       "  </thead>\n",
       "  <tbody>\n",
       "    <tr>\n",
       "      <th>0</th>\n",
       "      <td>1.52101</td>\n",
       "      <td>13.64</td>\n",
       "      <td>4.49</td>\n",
       "      <td>1.10</td>\n",
       "      <td>71.78</td>\n",
       "      <td>0.06</td>\n",
       "      <td>8.75</td>\n",
       "      <td>0.0</td>\n",
       "      <td>0.0</td>\n",
       "      <td>1</td>\n",
       "    </tr>\n",
       "    <tr>\n",
       "      <th>1</th>\n",
       "      <td>1.51761</td>\n",
       "      <td>13.89</td>\n",
       "      <td>3.60</td>\n",
       "      <td>1.36</td>\n",
       "      <td>72.73</td>\n",
       "      <td>0.48</td>\n",
       "      <td>7.83</td>\n",
       "      <td>0.0</td>\n",
       "      <td>0.0</td>\n",
       "      <td>1</td>\n",
       "    </tr>\n",
       "    <tr>\n",
       "      <th>2</th>\n",
       "      <td>1.51618</td>\n",
       "      <td>13.53</td>\n",
       "      <td>3.55</td>\n",
       "      <td>1.54</td>\n",
       "      <td>72.99</td>\n",
       "      <td>0.39</td>\n",
       "      <td>7.78</td>\n",
       "      <td>0.0</td>\n",
       "      <td>0.0</td>\n",
       "      <td>1</td>\n",
       "    </tr>\n",
       "    <tr>\n",
       "      <th>3</th>\n",
       "      <td>1.51766</td>\n",
       "      <td>13.21</td>\n",
       "      <td>3.69</td>\n",
       "      <td>1.29</td>\n",
       "      <td>72.61</td>\n",
       "      <td>0.57</td>\n",
       "      <td>8.22</td>\n",
       "      <td>0.0</td>\n",
       "      <td>0.0</td>\n",
       "      <td>1</td>\n",
       "    </tr>\n",
       "    <tr>\n",
       "      <th>4</th>\n",
       "      <td>1.51742</td>\n",
       "      <td>13.27</td>\n",
       "      <td>3.62</td>\n",
       "      <td>1.24</td>\n",
       "      <td>73.08</td>\n",
       "      <td>0.55</td>\n",
       "      <td>8.07</td>\n",
       "      <td>0.0</td>\n",
       "      <td>0.0</td>\n",
       "      <td>1</td>\n",
       "    </tr>\n",
       "  </tbody>\n",
       "</table>\n",
       "</div>"
      ],
      "text/plain": [
       "        RI     Na    Mg    Al     Si     K    Ca   Ba   Fe  Type\n",
       "0  1.52101  13.64  4.49  1.10  71.78  0.06  8.75  0.0  0.0     1\n",
       "1  1.51761  13.89  3.60  1.36  72.73  0.48  7.83  0.0  0.0     1\n",
       "2  1.51618  13.53  3.55  1.54  72.99  0.39  7.78  0.0  0.0     1\n",
       "3  1.51766  13.21  3.69  1.29  72.61  0.57  8.22  0.0  0.0     1\n",
       "4  1.51742  13.27  3.62  1.24  73.08  0.55  8.07  0.0  0.0     1"
      ]
     },
     "execution_count": 11,
     "metadata": {},
     "output_type": "execute_result"
    }
   ],
   "source": [
    "glass_df.head()"
   ]
  },
  {
   "cell_type": "code",
   "execution_count": 12,
   "metadata": {},
   "outputs": [
    {
     "name": "stdout",
     "output_type": "stream",
     "text": [
      "Shape of training data after correlation\n",
      "(171, 7) (171,)\n",
      "**************************************************\n",
      "Shape of test data after correlation\n",
      "(43, 7) (43,)\n"
     ]
    }
   ],
   "source": [
    "glass_df_corr_x = glass_df.drop(['Type','Ba','Fe'],axis = 1)\n",
    "glass_df_corr_y = glass_df['Type']\n",
    "\n",
    "x_train,x_test,y_train,y_test = train_test_split(glass_df_corr_x,glass_df_corr_y,test_size = 0.2,random_state = 100)\n",
    "\n",
    "print('Shape of training data after correlation')\n",
    "print(x_train.shape,y_train.shape)\n",
    "print('*'*50)\n",
    "print('Shape of test data after correlation')\n",
    "print(x_test.shape,y_test.shape)\n",
    "\n"
   ]
  },
  {
   "cell_type": "markdown",
   "metadata": {},
   "source": [
    "#### 7.Finding Accuracy again"
   ]
  },
  {
   "cell_type": "code",
   "execution_count": 13,
   "metadata": {},
   "outputs": [
    {
     "name": "stdout",
     "output_type": "stream",
     "text": [
      "confusion matrix after correlation:  [[ 9  1  0  0  0  0]\n",
      " [ 8 11  0  0  0  0]\n",
      " [ 2  1  0  0  0  0]\n",
      " [ 0  1  0  3  0  1]\n",
      " [ 0  0  0  0  1  0]\n",
      " [ 0  1  0  0  0  4]]\n",
      "accuracy score after correlation: 65.12 %\n",
      "number of correctly classified samples:  28\n",
      "**************************************************\n",
      "classification report after correlation:                precision    recall  f1-score   support\n",
      "\n",
      "           1       0.47      0.90      0.62        10\n",
      "           2       0.73      0.58      0.65        19\n",
      "           3       0.00      0.00      0.00         3\n",
      "           5       1.00      0.60      0.75         5\n",
      "           6       1.00      1.00      1.00         1\n",
      "           7       0.80      0.80      0.80         5\n",
      "\n",
      "    accuracy                           0.65        43\n",
      "   macro avg       0.67      0.65      0.64        43\n",
      "weighted avg       0.67      0.65      0.63        43\n",
      "\n"
     ]
    },
    {
     "name": "stderr",
     "output_type": "stream",
     "text": [
      "D:\\Anaconda\\lib\\site-packages\\sklearn\\metrics\\_classification.py:1221: UndefinedMetricWarning: Precision and F-score are ill-defined and being set to 0.0 in labels with no predicted samples. Use `zero_division` parameter to control this behavior.\n",
      "  _warn_prf(average, modifier, msg_start, len(result))\n"
     ]
    }
   ],
   "source": [
    "model = SVC(kernel='linear',C=1).fit(x_train,y_train)\n",
    "model.fit(x_train,y_train)\n",
    "y_pred = model.predict(x_test)\n",
    "print('confusion matrix after correlation: ' ,confusion_matrix(y_test,y_pred))\n",
    "print('accuracy score after correlation:',round(accuracy_score(y_test,y_pred)*100,2),'%')\n",
    "print('number of correctly classified samples: ' ,accuracy_score(y_test, y_pred, normalize=False))\n",
    "print('*'*50)\n",
    "print('classification report after correlation: ' ,classification_report(y_test,y_pred))"
   ]
  },
  {
   "cell_type": "markdown",
   "metadata": {},
   "source": [
    "#### Accuracy score was slightly decreased to 65"
   ]
  },
  {
   "cell_type": "code",
   "execution_count": null,
   "metadata": {},
   "outputs": [],
   "source": []
  }
 ],
 "metadata": {
  "kernelspec": {
   "display_name": "Python 3",
   "language": "python",
   "name": "python3"
  },
  "language_info": {
   "codemirror_mode": {
    "name": "ipython",
    "version": 3
   },
   "file_extension": ".py",
   "mimetype": "text/x-python",
   "name": "python",
   "nbconvert_exporter": "python",
   "pygments_lexer": "ipython3",
   "version": "3.8.5"
  }
 },
 "nbformat": 4,
 "nbformat_minor": 4
}
