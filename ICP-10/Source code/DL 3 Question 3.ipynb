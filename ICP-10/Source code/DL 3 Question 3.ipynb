{
 "cells": [
  {
   "cell_type": "markdown",
   "id": "capital-particle",
   "metadata": {},
   "source": [
    "# DL 3 - Question 3\n",
    "Apply the codeon 20_newsgroup data set we worked in the previous classesfromsklearn.datasets importfetch_20newsgroupsnewsgroups_train =fetch_20newsgroups(subset='train', shuffle=True, categories=categories,)"
   ]
  },
  {
   "cell_type": "code",
   "execution_count": 1,
   "id": "developed-affiliation",
   "metadata": {},
   "outputs": [],
   "source": [
    "#Importing the libraries\n",
    "from keras.models import Sequential\n",
    "from keras import layers\n",
    "from keras.preprocessing.text import Tokenizer\n",
    "import pandas as pd\n",
    "from sklearn import preprocessing\n",
    "from sklearn.model_selection import train_test_split\n",
    "import matplotlib.pyplot as plt\n",
    "from keras.layers import Dropout\n",
    "from sklearn.datasets import fetch_20newsgroups\n",
    "from keras.preprocessing.sequence import pad_sequences\n",
    "from keras.layers import Embedding, Flatten"
   ]
  },
  {
   "cell_type": "code",
   "execution_count": 2,
   "id": "secondary-franchise",
   "metadata": {},
   "outputs": [],
   "source": [
    "#https://www.kaggle.com/arihantjain09/20-groups-best-predictions-and-visuals\n",
    "categories = ['alt.atheism', 'sci.space']"
   ]
  },
  {
   "cell_type": "code",
   "execution_count": 3,
   "id": "affiliated-duplicate",
   "metadata": {},
   "outputs": [],
   "source": [
    "#loading the data\n",
    "from sklearn.datasets import fetch_20newsgroups \n",
    "newsgroups_train =fetch_20newsgroups(subset='train', shuffle=True, categories=categories)"
   ]
  },
  {
   "cell_type": "code",
   "execution_count": 4,
   "id": "understood-chess",
   "metadata": {},
   "outputs": [],
   "source": [
    "#Reading the data\n",
    "sentences = newsgroups_train.data\n",
    "y = newsgroups_train.target"
   ]
  },
  {
   "cell_type": "code",
   "execution_count": 5,
   "id": "protecting-material",
   "metadata": {},
   "outputs": [],
   "source": [
    "#tokenizing data\n",
    "tokenizer = Tokenizer(num_words=2000)\n",
    "tokenizer.fit_on_texts(sentences)"
   ]
  },
  {
   "cell_type": "code",
   "execution_count": 6,
   "id": "norwegian-accounting",
   "metadata": {},
   "outputs": [],
   "source": [
    "#Embedding the layers\n",
    "max_review_len = max([len(s.split()) for s in sentences])\n",
    "vocab_size = len(tokenizer.word_index)+1\n",
    "\n",
    "#Splitting the data into train and test\n",
    "X_train, X_test, y_train, y_test = train_test_split(sentences, y, test_size=0.25, random_state=1000)\n",
    "\n",
    "#getting the vocabulary of data\n",
    "X_train_voc = tokenizer.texts_to_sequences(X_train)\n",
    "X_test_voc = tokenizer.texts_to_sequences(X_test)\n",
    "\n",
    "padded_train = pad_sequences(X_train_voc,maxlen=max_review_len)\n",
    "paded_test = pad_sequences(X_test_voc,maxlen=max_review_len)"
   ]
  },
  {
   "cell_type": "code",
   "execution_count": 12,
   "id": "empirical-example",
   "metadata": {},
   "outputs": [
    {
     "name": "stdout",
     "output_type": "stream",
     "text": [
      "Epoch 1/5\n",
      "13/13 [==============================] - 12s 885ms/step - loss: 7.1518 - acc: 0.5299 - val_loss: 1.9391 - val_acc: 0.5948\n",
      "Epoch 2/5\n",
      "13/13 [==============================] - 12s 896ms/step - loss: 1.8774 - acc: 0.5174 - val_loss: 1.0928 - val_acc: 0.5948\n",
      "Epoch 3/5\n",
      "13/13 [==============================] - 11s 864ms/step - loss: 0.6149 - acc: 0.6878 - val_loss: 0.3957 - val_acc: 0.8439\n",
      "Epoch 4/5\n",
      "13/13 [==============================] - 12s 906ms/step - loss: 0.2362 - acc: 0.9192 - val_loss: 0.2677 - val_acc: 0.9442\n",
      "Epoch 5/5\n",
      "13/13 [==============================] - 12s 889ms/step - loss: 0.1061 - acc: 0.9876 - val_loss: 0.2169 - val_acc: 0.9368\n"
     ]
    }
   ],
   "source": [
    "#Building the model.\n",
    "model = Sequential()\n",
    "model.add(Embedding(vocab_size, 50, input_length=max_review_len)) \n",
    "model.add(Flatten()) #flatten has to be done after embedding\n",
    "model.add(Dropout(0.2)) #dropping some outliers\n",
    "model.add(layers.Dense(300,activation='relu'))\n",
    "model.add(layers.Dense(1, activation='sigmoid'))\n",
    "#compilation\n",
    "model.compile(loss='binary_crossentropy',optimizer='adam',metrics=['acc'])\n",
    "history=model.fit(padded_train,y_train, epochs=5, verbose=True, validation_data=(paded_test,y_test), batch_size=64)"
   ]
  },
  {
   "cell_type": "code",
   "execution_count": 13,
   "id": "suspended-garage",
   "metadata": {},
   "outputs": [
    {
     "name": "stdout",
     "output_type": "stream",
     "text": [
      "Model: \"sequential_1\"\n",
      "_________________________________________________________________\n",
      "Layer (type)                 Output Shape              Param #   \n",
      "=================================================================\n",
      "embedding_1 (Embedding)      (None, 8648, 50)          1148800   \n",
      "_________________________________________________________________\n",
      "flatten_1 (Flatten)          (None, 432400)            0         \n",
      "_________________________________________________________________\n",
      "dropout (Dropout)            (None, 432400)            0         \n",
      "_________________________________________________________________\n",
      "dense_2 (Dense)              (None, 300)               129720300 \n",
      "_________________________________________________________________\n",
      "dense_3 (Dense)              (None, 1)                 301       \n",
      "=================================================================\n",
      "Total params: 130,869,401\n",
      "Trainable params: 130,869,401\n",
      "Non-trainable params: 0\n",
      "_________________________________________________________________\n",
      "None\n",
      "9/9 [==============================] - 1s 92ms/step - loss: 0.2169 - acc: 0.9368\n",
      "[0.21694432199001312, 0.9368029832839966]\n"
     ]
    }
   ],
   "source": [
    "#Printing the summary and accuarcy of the model\n",
    "print(model.summary())\n",
    "print(model.evaluate(paded_test, y_test))"
   ]
  },
  {
   "cell_type": "code",
   "execution_count": 9,
   "id": "african-female",
   "metadata": {},
   "outputs": [
    {
     "data": {
      "text/plain": [
       "dict_keys(['loss', 'acc', 'val_loss', 'val_acc'])"
      ]
     },
     "execution_count": 9,
     "metadata": {},
     "output_type": "execute_result"
    }
   ],
   "source": [
    "#Listing all the data in history (Call Backs)\n",
    "history.history.keys()"
   ]
  },
  {
   "cell_type": "code",
   "execution_count": 14,
   "id": "hourly-static",
   "metadata": {},
   "outputs": [
    {
     "data": {
      "image/png": "[encoded data removed]",
      "text/plain": [
       "<Figure size 432x288 with 1 Axes>"
      ]
     },
     "metadata": {
      "needs_background": "light"
     },
     "output_type": "display_data"
    }
   ],
   "source": [
    "# Plotting the loss for both training data and validation data using the history object.\n",
    "plt.plot(history.history['loss'])\n",
    "plt.plot(history.history['val_loss'])\n",
    "plt.title('Loss data comparison')\n",
    "plt.legend(['train', 'test'], loc='upper right')\n",
    "plt.xlabel('epoch')\n",
    "plt.ylabel('Loss')\n",
    "plt.show()"
   ]
  },
  {
   "cell_type": "markdown",
   "id": "waiting-touch",
   "metadata": {},
   "source": [
    "#### Observations :\n",
    "1. Loss of the model is around 17%"
   ]
  },
  {
   "cell_type": "code",
   "execution_count": 15,
   "id": "incredible-gateway",
   "metadata": {},
   "outputs": [
    {
     "data": {
      "image/png": "[encoded data removed]",
      "text/plain": [
       "<Figure size 432x288 with 1 Axes>"
      ]
     },
     "metadata": {
      "needs_background": "light"
     },
     "output_type": "display_data"
    }
   ],
   "source": [
    "# Plotting the Accuracy for both training data and validation data using the history object.\n",
    "plt.plot(history.history['acc'])\n",
    "plt.plot(history.history['val_acc'])\n",
    "plt.legend(['train', 'test'], loc='lower right')\n",
    "plt.title('Accuracy data comparison')\n",
    "plt.ylabel('Accuracy')\n",
    "plt.xlabel('epoch')\n",
    "plt.show()"
   ]
  },
  {
   "cell_type": "markdown",
   "id": "packed-nelson",
   "metadata": {},
   "source": [
    "#### Observations :\n",
    "1. Accuracy of the model is around 94%"
   ]
  }
 ],
 "metadata": {
  "kernelspec": {
   "display_name": "Python 3",
   "language": "python",
   "name": "python3"
  },
  "language_info": {
   "codemirror_mode": {
    "name": "ipython",
    "version": 3
   },
   "file_extension": ".py",
   "mimetype": "text/x-python",
   "name": "python",
   "nbconvert_exporter": "python",
   "pygments_lexer": "ipython3",
   "version": "3.8.8"
  }
 },
 "nbformat": 4,
 "nbformat_minor": 5
}
