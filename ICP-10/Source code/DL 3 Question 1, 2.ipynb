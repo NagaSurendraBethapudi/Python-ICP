{
 "cells": [
  {
   "cell_type": "markdown",
   "id": "classical-norwegian",
   "metadata": {},
   "source": [
    "# DL 3 - Question 1 , Question 2\n",
    "1. In the code provided https://umkc.box.com/s/3so2s3dx7cjp4hwnurjx6t3it161ptey ,there are three mistake which stop the code to get run successfully; find those mistakes and explain why they need to be corrected to be able to get the code run\n",
    "2. Add embedding layer to the model, did you experience any improvement?"
   ]
  },
  {
   "cell_type": "code",
   "execution_count": 1,
   "id": "social-vessel",
   "metadata": {},
   "outputs": [],
   "source": [
    "#Importing the libraries\n",
    "from keras.models import Sequential\n",
    "from keras import layers\n",
    "from keras.preprocessing.text import Tokenizer\n",
    "import pandas as pd\n",
    "from sklearn import preprocessing\n",
    "from sklearn.model_selection import train_test_split\n",
    "import matplotlib.pyplot as plt\n",
    "from keras.layers import Dropout\n",
    "import numpy as np\n",
    "from keras.preprocessing.sequence import pad_sequences\n",
    "from keras.layers import Embedding, Flatten"
   ]
  },
  {
   "cell_type": "code",
   "execution_count": 2,
   "id": "appointed-signal",
   "metadata": {},
   "outputs": [
    {
     "data": {
      "text/html": [
       "<div>\n",
       "<style scoped>\n",
       "    .dataframe tbody tr th:only-of-type {\n",
       "        vertical-align: middle;\n",
       "    }\n",
       "\n",
       "    .dataframe tbody tr th {\n",
       "        vertical-align: top;\n",
       "    }\n",
       "\n",
       "    .dataframe thead th {\n",
       "        text-align: right;\n",
       "    }\n",
       "</style>\n",
       "<table border=\"1\" class=\"dataframe\">\n",
       "  <thead>\n",
       "    <tr style=\"text-align: right;\">\n",
       "      <th></th>\n",
       "      <th>Unnamed: 0</th>\n",
       "      <th>type</th>\n",
       "      <th>review</th>\n",
       "      <th>label</th>\n",
       "      <th>file</th>\n",
       "    </tr>\n",
       "  </thead>\n",
       "  <tbody>\n",
       "    <tr>\n",
       "      <th>0</th>\n",
       "      <td>0</td>\n",
       "      <td>test</td>\n",
       "      <td>Once again Mr. Costner has dragged out a movie...</td>\n",
       "      <td>neg</td>\n",
       "      <td>0_2.txt</td>\n",
       "    </tr>\n",
       "    <tr>\n",
       "      <th>1</th>\n",
       "      <td>1</td>\n",
       "      <td>test</td>\n",
       "      <td>This is an example of why the majority of acti...</td>\n",
       "      <td>neg</td>\n",
       "      <td>10000_4.txt</td>\n",
       "    </tr>\n",
       "    <tr>\n",
       "      <th>2</th>\n",
       "      <td>2</td>\n",
       "      <td>test</td>\n",
       "      <td>First of all I hate those moronic rappers, who...</td>\n",
       "      <td>neg</td>\n",
       "      <td>10001_1.txt</td>\n",
       "    </tr>\n",
       "    <tr>\n",
       "      <th>3</th>\n",
       "      <td>3</td>\n",
       "      <td>test</td>\n",
       "      <td>Not even the Beatles could write songs everyon...</td>\n",
       "      <td>neg</td>\n",
       "      <td>10002_3.txt</td>\n",
       "    </tr>\n",
       "    <tr>\n",
       "      <th>4</th>\n",
       "      <td>4</td>\n",
       "      <td>test</td>\n",
       "      <td>Brass pictures (movies is not a fitting word f...</td>\n",
       "      <td>neg</td>\n",
       "      <td>10003_3.txt</td>\n",
       "    </tr>\n",
       "  </tbody>\n",
       "</table>\n",
       "</div>"
      ],
      "text/plain": [
       "   Unnamed: 0  type                                             review label  \\\n",
       "0           0  test  Once again Mr. Costner has dragged out a movie...   neg   \n",
       "1           1  test  This is an example of why the majority of acti...   neg   \n",
       "2           2  test  First of all I hate those moronic rappers, who...   neg   \n",
       "3           3  test  Not even the Beatles could write songs everyon...   neg   \n",
       "4           4  test  Brass pictures (movies is not a fitting word f...   neg   \n",
       "\n",
       "          file  \n",
       "0      0_2.txt  \n",
       "1  10000_4.txt  \n",
       "2  10001_1.txt  \n",
       "3  10002_3.txt  \n",
       "4  10003_3.txt  "
      ]
     },
     "execution_count": 2,
     "metadata": {},
     "output_type": "execute_result"
    }
   ],
   "source": [
    "#Importing the data\n",
    "df = pd.read_csv('imdb_master.csv',encoding='latin-1')\n",
    "df.head()"
   ]
  },
  {
   "cell_type": "code",
   "execution_count": 3,
   "id": "satellite-timing",
   "metadata": {},
   "outputs": [],
   "source": [
    "#Reading the data\n",
    "sentences = df['review'].values\n",
    "y = df['label'].values"
   ]
  },
  {
   "cell_type": "code",
   "execution_count": 4,
   "id": "loved-glasgow",
   "metadata": {},
   "outputs": [],
   "source": [
    "#tokenizing data\n",
    "tokenizer = Tokenizer(num_words=2000)\n",
    "tokenizer.fit_on_texts(sentences)"
   ]
  },
  {
   "cell_type": "code",
   "execution_count": 5,
   "id": "understanding-welcome",
   "metadata": {},
   "outputs": [],
   "source": [
    "#getting the vocabulary of data\n",
    "sentences = tokenizer.texts_to_matrix(sentences)"
   ]
  },
  {
   "cell_type": "code",
   "execution_count": 6,
   "id": "statistical-briefing",
   "metadata": {},
   "outputs": [],
   "source": [
    "#Encoding the target column\n",
    "le = preprocessing.LabelEncoder()\n",
    "y = le.fit_transform(y)\n",
    "#Splitting the data into train and test\n",
    "X_train, X_test, y_train, y_test = train_test_split(sentences, y, test_size=0.25, random_state=1000)"
   ]
  },
  {
   "cell_type": "code",
   "execution_count": 7,
   "id": "central-sunrise",
   "metadata": {},
   "outputs": [
    {
     "ename": "NameError",
     "evalue": "name 'input_dim' is not defined",
     "output_type": "error",
     "traceback": [
      "\u001b[1;31m---------------------------------------------------------------------------\u001b[0m",
      "\u001b[1;31mNameError\u001b[0m                                 Traceback (most recent call last)",
      "\u001b[1;32m<ipython-input-7-3a64bf841a50>\u001b[0m in \u001b[0;36m<module>\u001b[1;34m\u001b[0m\n\u001b[0;32m      1\u001b[0m \u001b[1;31m#Building the model\u001b[0m\u001b[1;33m\u001b[0m\u001b[1;33m\u001b[0m\u001b[1;33m\u001b[0m\u001b[0m\n\u001b[0;32m      2\u001b[0m \u001b[0mmodel\u001b[0m \u001b[1;33m=\u001b[0m \u001b[0mSequential\u001b[0m\u001b[1;33m(\u001b[0m\u001b[1;33m)\u001b[0m\u001b[1;33m\u001b[0m\u001b[1;33m\u001b[0m\u001b[0m\n\u001b[1;32m----> 3\u001b[1;33m \u001b[0mmodel\u001b[0m\u001b[1;33m.\u001b[0m\u001b[0madd\u001b[0m\u001b[1;33m(\u001b[0m\u001b[0mlayers\u001b[0m\u001b[1;33m.\u001b[0m\u001b[0mDense\u001b[0m\u001b[1;33m(\u001b[0m\u001b[1;36m300\u001b[0m\u001b[1;33m,\u001b[0m\u001b[0minput_dim\u001b[0m\u001b[1;33m=\u001b[0m\u001b[0minput_dim\u001b[0m\u001b[1;33m,\u001b[0m \u001b[0mactivation\u001b[0m\u001b[1;33m=\u001b[0m\u001b[1;34m'relu'\u001b[0m\u001b[1;33m)\u001b[0m\u001b[1;33m)\u001b[0m\u001b[1;33m\u001b[0m\u001b[1;33m\u001b[0m\u001b[0m\n\u001b[0m\u001b[0;32m      4\u001b[0m \u001b[0mmodel\u001b[0m\u001b[1;33m.\u001b[0m\u001b[0madd\u001b[0m\u001b[1;33m(\u001b[0m\u001b[0mlayers\u001b[0m\u001b[1;33m.\u001b[0m\u001b[0mDense\u001b[0m\u001b[1;33m(\u001b[0m\u001b[1;36m3\u001b[0m\u001b[1;33m,\u001b[0m \u001b[0mactivation\u001b[0m\u001b[1;33m=\u001b[0m\u001b[1;34m'sigmoid'\u001b[0m\u001b[1;33m)\u001b[0m\u001b[1;33m)\u001b[0m\u001b[1;33m\u001b[0m\u001b[1;33m\u001b[0m\u001b[0m\n\u001b[0;32m      5\u001b[0m \u001b[1;33m\u001b[0m\u001b[0m\n",
      "\u001b[1;31mNameError\u001b[0m: name 'input_dim' is not defined"
     ]
    }
   ],
   "source": [
    "#Building the model\n",
    "model = Sequential()\n",
    "model.add(layers.Dense(300,input_dim=input_dim, activation='relu'))\n",
    "model.add(layers.Dense(3, activation='sigmoid'))\n",
    "\n",
    "model.compile(loss='sparse_categorical_crossentropy',optimizer='adam',metrics=['acc'])\n",
    "history=model.fit(X_train,y_train, epochs=5, verbose=True, validation_data=(X_test,y_test), batch_size=256)"
   ]
  },
  {
   "cell_type": "markdown",
   "id": "enhanced-bleeding",
   "metadata": {},
   "source": [
    "## Mistake 1 : input_dim is not defined"
   ]
  },
  {
   "cell_type": "code",
   "execution_count": 8,
   "id": "electronic-railway",
   "metadata": {},
   "outputs": [
    {
     "name": "stdout",
     "output_type": "stream",
     "text": [
      "2000\n"
     ]
    }
   ],
   "source": [
    "#Getting the dimensions of dataframe\n",
    "dimData = np.prod(X_train.shape[1:])\n",
    "print(dimData)"
   ]
  },
  {
   "cell_type": "markdown",
   "id": "tender-thursday",
   "metadata": {},
   "source": [
    "#### As we could see dimensions of df is 2000 also we could see this while tokenizing the data (Tokenizer(num_words=2000))"
   ]
  },
  {
   "cell_type": "code",
   "execution_count": 9,
   "id": "silver-reading",
   "metadata": {},
   "outputs": [
    {
     "name": "stdout",
     "output_type": "stream",
     "text": [
      "Epoch 1/5\n",
      "293/293 [==============================] - 2s 8ms/step - loss: 0.8627 - acc: 0.5036 - val_loss: 0.8342 - val_acc: 0.5070\n",
      "Epoch 2/5\n",
      "293/293 [==============================] - 2s 7ms/step - loss: 0.8198 - acc: 0.5179 - val_loss: 0.8381 - val_acc: 0.5175\n",
      "Epoch 3/5\n",
      "293/293 [==============================] - 2s 7ms/step - loss: 0.7857 - acc: 0.5466 - val_loss: 0.8379 - val_acc: 0.5142\n",
      "Epoch 4/5\n",
      "293/293 [==============================] - 2s 8ms/step - loss: 0.7094 - acc: 0.6125 - val_loss: 0.8646 - val_acc: 0.5151\n",
      "Epoch 5/5\n",
      "293/293 [==============================] - 2s 8ms/step - loss: 0.5356 - acc: 0.7485 - val_loss: 0.9688 - val_acc: 0.5123\n"
     ]
    }
   ],
   "source": [
    "#Building the model\n",
    "model = Sequential()\n",
    "model.add(layers.Dense(300,input_shape=(dimData,), activation='relu'))\n",
    "model.add(layers.Dense(3, activation='sigmoid'))\n",
    "model.compile(loss='sparse_categorical_crossentropy',optimizer='adam',metrics=['acc'])\n",
    "history=model.fit(X_train,y_train, epochs=5, verbose=True, validation_data=(X_test,y_test), batch_size=256)"
   ]
  },
  {
   "cell_type": "markdown",
   "id": "corrected-ranch",
   "metadata": {},
   "source": [
    "## Mistake 2 : Generally, we use softmax activation instead of sigmoid with the cross-entropy loss because softmax activation distributes the probability throughout each output node. "
   ]
  },
  {
   "cell_type": "code",
   "execution_count": 10,
   "id": "copyrighted-sunset",
   "metadata": {
    "scrolled": true
   },
   "outputs": [
    {
     "name": "stdout",
     "output_type": "stream",
     "text": [
      "Epoch 1/5\n",
      "1172/1172 [==============================] - 5s 4ms/step - loss: 0.8672 - acc: 0.5061 - val_loss: 0.8387 - val_acc: 0.5135\n",
      "Epoch 2/5\n",
      "1172/1172 [==============================] - 5s 4ms/step - loss: 0.7886 - acc: 0.5759 - val_loss: 0.8445 - val_acc: 0.5135\n",
      "Epoch 3/5\n",
      "1172/1172 [==============================] - 5s 4ms/step - loss: 0.6581 - acc: 0.6895 - val_loss: 0.8981 - val_acc: 0.5128\n",
      "Epoch 4/5\n",
      "1172/1172 [==============================] - 5s 4ms/step - loss: 0.3952 - acc: 0.8525 - val_loss: 1.0750 - val_acc: 0.5018\n",
      "Epoch 5/5\n",
      "1172/1172 [==============================] - 5s 4ms/step - loss: 0.1717 - acc: 0.9577 - val_loss: 1.3270 - val_acc: 0.5034\n"
     ]
    }
   ],
   "source": [
    "#Building the model\n",
    "model = Sequential()\n",
    "model.add(layers.Dense(300,input_shape=(dimData,), activation='relu'))\n",
    "#model.add(Dropout(0.2)) to drop some outliers\n",
    "model.add(layers.Dense(3, activation='softmax')) #Changed activation to softmax since softmax \n",
    "model.compile(loss='sparse_categorical_crossentropy',optimizer='adam',metrics=['acc'])\n",
    "history=model.fit(X_train,y_train, epochs=5, verbose=True, validation_data=(X_test,y_test), batch_size=64)"
   ]
  },
  {
   "cell_type": "markdown",
   "id": "together-prototype",
   "metadata": {},
   "source": [
    "## Mistake 3 : As the main moto of predection is positive or negative we will remove 'unsup' value from label column and will pass number of classes as 2 instead of 3"
   ]
  },
  {
   "cell_type": "code",
   "execution_count": 11,
   "id": "viral-glossary",
   "metadata": {},
   "outputs": [],
   "source": [
    "#Dropping the unsup label since the main moto of predection is positive or negative\n",
    "df = df[df.label != 'unsup']"
   ]
  },
  {
   "cell_type": "code",
   "execution_count": 12,
   "id": "hearing-seeker",
   "metadata": {},
   "outputs": [],
   "source": [
    "#getting the vocabulary of data\n",
    "sentences = df['review'].values\n",
    "y = df['label'].values"
   ]
  },
  {
   "cell_type": "code",
   "execution_count": 13,
   "id": "related-suspension",
   "metadata": {},
   "outputs": [],
   "source": [
    "#Encoding the target column\n",
    "le = preprocessing.LabelEncoder()\n",
    "y = le.fit_transform(y)"
   ]
  },
  {
   "cell_type": "code",
   "execution_count": 14,
   "id": "brazilian-february",
   "metadata": {},
   "outputs": [],
   "source": [
    "#getting the vocabulary of data\n",
    "sentences = tokenizer.texts_to_matrix(sentences)"
   ]
  },
  {
   "cell_type": "code",
   "execution_count": 15,
   "id": "duplicate-knife",
   "metadata": {},
   "outputs": [],
   "source": [
    "#Splitting the data into train and test\n",
    "X_train, X_test, y_train, y_test = train_test_split(sentences, y, test_size=0.25, random_state=1000)"
   ]
  },
  {
   "cell_type": "code",
   "execution_count": 16,
   "id": "advisory-decision",
   "metadata": {},
   "outputs": [
    {
     "name": "stdout",
     "output_type": "stream",
     "text": [
      "Epoch 1/5\n",
      "147/147 [==============================] - 1s 9ms/step - loss: 0.3443 - acc: 0.8537 - val_loss: 0.2988 - val_acc: 0.8762\n",
      "Epoch 2/5\n",
      "147/147 [==============================] - 1s 8ms/step - loss: 0.2557 - acc: 0.8952 - val_loss: 0.2964 - val_acc: 0.8775\n",
      "Epoch 3/5\n",
      "147/147 [==============================] - 1s 8ms/step - loss: 0.2062 - acc: 0.9203 - val_loss: 0.2946 - val_acc: 0.8754\n",
      "Epoch 4/5\n",
      "147/147 [==============================] - 1s 8ms/step - loss: 0.1372 - acc: 0.9530 - val_loss: 0.3120 - val_acc: 0.8758\n",
      "Epoch 5/5\n",
      "147/147 [==============================] - 1s 8ms/step - loss: 0.0722 - acc: 0.9840 - val_loss: 0.3308 - val_acc: 0.8742\n"
     ]
    }
   ],
   "source": [
    "#Building the model.\n",
    "model = Sequential()\n",
    "model.add(layers.Dense(300,input_shape=(dimData,), activation='relu'))\n",
    "model.add(layers.Dense(2, activation='softmax')) #Changed number of classed from 3 to 2\n",
    "model.compile(loss='sparse_categorical_crossentropy',optimizer='adam',metrics=['acc'])\n",
    "history=model.fit(X_train,y_train, epochs=5, verbose=True, validation_data=(X_test,y_test), batch_size=256)"
   ]
  },
  {
   "cell_type": "code",
   "execution_count": 17,
   "id": "musical-broad",
   "metadata": {},
   "outputs": [
    {
     "name": "stdout",
     "output_type": "stream",
     "text": [
      "Model: \"sequential_3\"\n",
      "_________________________________________________________________\n",
      "Layer (type)                 Output Shape              Param #   \n",
      "=================================================================\n",
      "dense_4 (Dense)              (None, 300)               600300    \n",
      "_________________________________________________________________\n",
      "dense_5 (Dense)              (None, 2)                 602       \n",
      "=================================================================\n",
      "Total params: 600,902\n",
      "Trainable params: 600,902\n",
      "Non-trainable params: 0\n",
      "_________________________________________________________________\n",
      "None\n",
      "391/391 [==============================] - 0s 1ms/step - loss: 0.3308 - acc: 0.8742\n",
      "[0.3307819664478302, 0.874239981174469]\n"
     ]
    }
   ],
   "source": [
    "#Printing the summary and accuarcy of the model\n",
    "print(model.summary())\n",
    "print(model.evaluate(X_test, y_test))"
   ]
  },
  {
   "cell_type": "code",
   "execution_count": 18,
   "id": "official-hudson",
   "metadata": {},
   "outputs": [
    {
     "data": {
      "text/plain": [
       "dict_keys(['loss', 'acc', 'val_loss', 'val_acc'])"
      ]
     },
     "execution_count": 18,
     "metadata": {},
     "output_type": "execute_result"
    }
   ],
   "source": [
    "#Listing all the data in history (Call Backs)\n",
    "history.history.keys()"
   ]
  },
  {
   "cell_type": "code",
   "execution_count": 19,
   "id": "intermediate-brazilian",
   "metadata": {},
   "outputs": [
    {
     "data": {
      "image/png": "[encoded data removed]",
      "text/plain": [
       "<Figure size 432x288 with 1 Axes>"
      ]
     },
     "metadata": {
      "needs_background": "light"
     },
     "output_type": "display_data"
    }
   ],
   "source": [
    "# Plotting the loss for both training data and validation data using the history object.\n",
    "plt.plot(history.history['loss'])\n",
    "plt.plot(history.history['val_loss'])\n",
    "plt.title('Loss data comparison')\n",
    "plt.legend(['train', 'test'], loc='upper right')\n",
    "plt.xlabel('epoch')\n",
    "plt.ylabel('Loss')\n",
    "plt.show()"
   ]
  },
  {
   "cell_type": "markdown",
   "id": "supported-interface",
   "metadata": {},
   "source": [
    "#### Observations :\n",
    "1. Loss of the model is around 33%"
   ]
  },
  {
   "cell_type": "code",
   "execution_count": 20,
   "id": "according-colleague",
   "metadata": {},
   "outputs": [
    {
     "data": {
      "image/png": "[encoded data removed]",
      "text/plain": [
       "<Figure size 432x288 with 1 Axes>"
      ]
     },
     "metadata": {
      "needs_background": "light"
     },
     "output_type": "display_data"
    }
   ],
   "source": [
    "# Plotting the Accuracy for both training data and validation data using the history object.\n",
    "plt.plot(history.history['acc'])\n",
    "plt.plot(history.history['val_acc'])\n",
    "plt.legend(['train', 'test'], loc='lower right')\n",
    "plt.title('Accuracy data comparison')\n",
    "plt.ylabel('Accuracy')\n",
    "plt.xlabel('epoch')\n",
    "plt.show()"
   ]
  },
  {
   "cell_type": "markdown",
   "id": "manual-neutral",
   "metadata": {},
   "source": [
    "#### Observations :\n",
    "1. Accuracy of the model is around 88%"
   ]
  },
  {
   "cell_type": "markdown",
   "id": "moved-printer",
   "metadata": {},
   "source": [
    "## Mistakes:\n",
    "1. input_dim is not defined.\n",
    "2. Generally, we use softmax activation instead of sigmoid with the cross-entropy loss over multi class classification because softmax activation distributes the probability throughout each output node.\n",
    "3. As the main moto of predection is positive or negative we will remove 'unsup' value from label column and will pass number of classes as 2 instead of 3"
   ]
  },
  {
   "cell_type": "markdown",
   "id": "spiritual-significance",
   "metadata": {},
   "source": [
    "# 2. Embedding the layers"
   ]
  },
  {
   "cell_type": "code",
   "execution_count": 21,
   "id": "eligible-gospel",
   "metadata": {},
   "outputs": [],
   "source": [
    "sentences = df['review'].values"
   ]
  },
  {
   "cell_type": "code",
   "execution_count": 22,
   "id": "afraid-scanning",
   "metadata": {},
   "outputs": [],
   "source": [
    "#Embedding the layers\n",
    "max_review_len = max([len(s.split()) for s in sentences])\n",
    "vocab_size = len(tokenizer.word_index)+1\n",
    "\n",
    "#Splitting the data into train and test\n",
    "X_train, X_test, y_train, y_test = train_test_split(sentences, y, test_size=0.25, random_state=1000)\n",
    "\n",
    "#getting the vocabulary of data\n",
    "X_train_voc = tokenizer.texts_to_sequences(X_train)\n",
    "X_test_voc = tokenizer.texts_to_sequences(X_test)\n",
    "\n",
    "padded_train = pad_sequences(X_train_voc,maxlen=max_review_len)\n",
    "paded_test = pad_sequences(X_test_voc,maxlen=max_review_len)"
   ]
  },
  {
   "cell_type": "code",
   "execution_count": 30,
   "id": "photographic-belize",
   "metadata": {},
   "outputs": [
    {
     "name": "stdout",
     "output_type": "stream",
     "text": [
      "Epoch 1/5\n",
      "147/147 [==============================] - 77s 526ms/step - loss: 0.5428 - acc: 0.7461 - val_loss: 0.2991 - val_acc: 0.8752\n",
      "Epoch 2/5\n",
      "147/147 [==============================] - 81s 553ms/step - loss: 0.2514 - acc: 0.8974 - val_loss: 0.2877 - val_acc: 0.8784\n",
      "Epoch 3/5\n",
      "147/147 [==============================] - 80s 547ms/step - loss: 0.1783 - acc: 0.9346 - val_loss: 0.3021 - val_acc: 0.8783\n",
      "Epoch 4/5\n",
      "147/147 [==============================] - 80s 541ms/step - loss: 0.1056 - acc: 0.9699 - val_loss: 0.3429 - val_acc: 0.8721\n",
      "Epoch 5/5\n",
      "147/147 [==============================] - 78s 532ms/step - loss: 0.0492 - acc: 0.9917 - val_loss: 0.3876 - val_acc: 0.8698\n"
     ]
    }
   ],
   "source": [
    "#Building the model.\n",
    "model = Sequential()\n",
    "model.add(Embedding(vocab_size, 50, input_length=max_review_len))\n",
    "model.add(Flatten())\n",
    "model.add(layers.Dense(300,activation='relu'))\n",
    "model.add(layers.Dense(1, activation='sigmoid'))\n",
    "\n",
    "model.compile(loss='binary_crossentropy',optimizer='adam',metrics=['acc'])\n",
    "history=model.fit(padded_train,y_train, epochs=5, verbose=True, validation_data=(paded_test,y_test), batch_size=256)"
   ]
  },
  {
   "cell_type": "code",
   "execution_count": 24,
   "id": "antique-composite",
   "metadata": {},
   "outputs": [
    {
     "name": "stdout",
     "output_type": "stream",
     "text": [
      "Model: \"sequential_4\"\n",
      "_________________________________________________________________\n",
      "Layer (type)                 Output Shape              Param #   \n",
      "=================================================================\n",
      "embedding (Embedding)        (None, 2470, 50)          8820400   \n",
      "_________________________________________________________________\n",
      "flatten (Flatten)            (None, 123500)            0         \n",
      "_________________________________________________________________\n",
      "dense_6 (Dense)              (None, 300)               37050300  \n",
      "_________________________________________________________________\n",
      "dense_7 (Dense)              (None, 1)                 301       \n",
      "=================================================================\n",
      "Total params: 45,871,001\n",
      "Trainable params: 45,871,001\n",
      "Non-trainable params: 0\n",
      "_________________________________________________________________\n",
      "None\n",
      "391/391 [==============================] - 14s 35ms/step - loss: 0.3833 - acc: 0.8667\n",
      "[0.38327059149742126, 0.8667200207710266]\n"
     ]
    }
   ],
   "source": [
    "#Printing the summary and accuarcy of the model\n",
    "print(model.summary())\n",
    "print(model.evaluate(paded_test, y_test))"
   ]
  },
  {
   "cell_type": "code",
   "execution_count": 25,
   "id": "particular-monroe",
   "metadata": {},
   "outputs": [
    {
     "data": {
      "text/plain": [
       "dict_keys(['loss', 'acc', 'val_loss', 'val_acc'])"
      ]
     },
     "execution_count": 25,
     "metadata": {},
     "output_type": "execute_result"
    }
   ],
   "source": [
    "#Listing all the data in history (Call Backs)\n",
    "history.history.keys()"
   ]
  },
  {
   "cell_type": "code",
   "execution_count": 26,
   "id": "governing-alignment",
   "metadata": {},
   "outputs": [
    {
     "data": {
      "image/png": "[encoded data removed]",
      "text/plain": [
       "<Figure size 432x288 with 1 Axes>"
      ]
     },
     "metadata": {
      "needs_background": "light"
     },
     "output_type": "display_data"
    }
   ],
   "source": [
    "# Plotting the loss for both training data and validation data using the history object.\n",
    "plt.plot(history.history['loss'])\n",
    "plt.plot(history.history['val_loss'])\n",
    "plt.title('Loss data comparison')\n",
    "plt.legend(['train', 'test'], loc='upper right')\n",
    "plt.xlabel('epoch')\n",
    "plt.ylabel('Loss')\n",
    "plt.show()"
   ]
  },
  {
   "cell_type": "markdown",
   "id": "multiple-madison",
   "metadata": {},
   "source": [
    "#### Observations :\n",
    "1. Loss of the model is around 38%"
   ]
  },
  {
   "cell_type": "code",
   "execution_count": 27,
   "id": "ignored-religious",
   "metadata": {},
   "outputs": [
    {
     "data": {
      "image/png": "[encoded data removed]",
      "text/plain": [
       "<Figure size 432x288 with 1 Axes>"
      ]
     },
     "metadata": {
      "needs_background": "light"
     },
     "output_type": "display_data"
    }
   ],
   "source": [
    "# Plotting the Accuracy for both training data and validation data using the history object.\n",
    "plt.plot(history.history['acc'])\n",
    "plt.plot(history.history['val_acc'])\n",
    "plt.legend(['train', 'test'], loc='lower right')\n",
    "plt.title('Accuracy data comparison')\n",
    "plt.ylabel('Accuracy')\n",
    "plt.xlabel('epoch')\n",
    "plt.show()"
   ]
  },
  {
   "cell_type": "markdown",
   "id": "greater-chorus",
   "metadata": {},
   "source": [
    "#### Observations :\n",
    "1. Accuracy of the model is around 87%"
   ]
  },
  {
   "cell_type": "markdown",
   "id": "dense-prevention",
   "metadata": {},
   "source": [
    "## After adding the embedding layers, loss was increased and accuracy was reduced."
   ]
  }
 ],
 "metadata": {
  "kernelspec": {
   "display_name": "Python 3",
   "language": "python",
   "name": "python3"
  },
  "language_info": {
   "codemirror_mode": {
    "name": "ipython",
    "version": 3
   },
   "file_extension": ".py",
   "mimetype": "text/x-python",
   "name": "python",
   "nbconvert_exporter": "python",
   "pygments_lexer": "ipython3",
   "version": "3.8.8"
  }
 },
 "nbformat": 4,
 "nbformat_minor": 5
}
