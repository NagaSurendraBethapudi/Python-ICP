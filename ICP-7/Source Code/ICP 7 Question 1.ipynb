{
 "cells": [
  {
   "cell_type": "markdown",
   "metadata": {},
   "source": [
    "## ICP7 - Question1\n",
    "#### Change the classifier in the given source code to\n",
    "1. SVM and see how accuracy changes\n",
    "2. Setthe tfidf vectorizer parameter to use bigram and see how the accuracy changes TfidfVectorizer(ngram_range=(1,2))\n",
    "3. Settfidf vectorizer argumentto use stop_words='english'and see how accuracy changes"
   ]
  },
  {
   "cell_type": "code",
   "execution_count": 1,
   "metadata": {},
   "outputs": [],
   "source": [
    "#importing Libraries\n",
    "from sklearn.datasets import fetch_20newsgroups\n",
    "\n",
    "from sklearn.feature_extraction.text import CountVectorizer, TfidfVectorizer\n",
    "from sklearn.feature_extraction.text import TfidfTransformer\n",
    "from sklearn import metrics\n",
    "from sklearn.pipeline import Pipeline\n",
    "from sklearn.naive_bayes import MultinomialNB\n",
    "from sklearn.svm import SVC"
   ]
  },
  {
   "cell_type": "code",
   "execution_count": 2,
   "metadata": {},
   "outputs": [],
   "source": [
    "#Reading the data\n",
    "twenty_train = fetch_20newsgroups(subset='train', shuffle=True)"
   ]
  },
  {
   "cell_type": "code",
   "execution_count": 3,
   "metadata": {},
   "outputs": [],
   "source": [
    "#Transorming the data\n",
    "tfidf_Vect = TfidfVectorizer()\n",
    "X_train_tfidf = tfidf_Vect.fit_transform(twenty_train.data)"
   ]
  },
  {
   "cell_type": "code",
   "execution_count": 33,
   "metadata": {},
   "outputs": [],
   "source": [
    "#Printing the vocabulary\n",
    "#print(tfidf_Vect.vocabulary_)"
   ]
  },
  {
   "cell_type": "code",
   "execution_count": 5,
   "metadata": {},
   "outputs": [
    {
     "data": {
      "text/plain": [
       "MultinomialNB()"
      ]
     },
     "execution_count": 5,
     "metadata": {},
     "output_type": "execute_result"
    }
   ],
   "source": [
    "#Buliding MultinomialNB() Classifier\n",
    "clf = MultinomialNB()\n",
    "clf.fit(X_train_tfidf, twenty_train.target)"
   ]
  },
  {
   "cell_type": "code",
   "execution_count": 6,
   "metadata": {},
   "outputs": [],
   "source": [
    "#Evaluate\n",
    "twenty_test = fetch_20newsgroups(subset='test', shuffle=True)\n",
    "X_test_tfidf = tfidf_Vect.transform(twenty_test.data)"
   ]
  },
  {
   "cell_type": "code",
   "execution_count": 7,
   "metadata": {},
   "outputs": [],
   "source": [
    "#predecting the data\n",
    "predicted = clf.predict(X_test_tfidf)"
   ]
  },
  {
   "cell_type": "code",
   "execution_count": 8,
   "metadata": {},
   "outputs": [
    {
     "name": "stdout",
     "output_type": "stream",
     "text": [
      "Multinomial score :  0.7738980350504514\n"
     ]
    }
   ],
   "source": [
    "#finding the accuracy \n",
    "score = metrics.accuracy_score(twenty_test.target, predicted)\n",
    "print('Multinomial score : ', score)"
   ]
  },
  {
   "cell_type": "markdown",
   "metadata": {},
   "source": [
    "#### 1. Changing the classifier to SVM and finding the accuracy"
   ]
  },
  {
   "cell_type": "code",
   "execution_count": 29,
   "metadata": {},
   "outputs": [],
   "source": [
    "from sklearn import svm"
   ]
  },
  {
   "cell_type": "code",
   "execution_count": 30,
   "metadata": {},
   "outputs": [
    {
     "data": {
      "text/plain": [
       "KNeighborsClassifier(n_neighbors=2)"
      ]
     },
     "execution_count": 30,
     "metadata": {},
     "output_type": "execute_result"
    }
   ],
   "source": [
    "#Buliding the SVC Classifier\n",
    "#svc = KNeighborsClassifier(n_neighbors=2)\n",
    "SVM = svm.SVC(C=1.0, kernel='linear', degree=3, gamma='auto')\n",
    "svc.fit(X_train_tfidf, twenty_train.target)"
   ]
  },
  {
   "cell_type": "code",
   "execution_count": 32,
   "metadata": {},
   "outputs": [
    {
     "name": "stdout",
     "output_type": "stream",
     "text": [
      "Accuracy with SVM Classifier is : 0.9257\n"
     ]
    }
   ],
   "source": [
    "#Finding the accuracy using SVC Classifier\n",
    "acc_knn = round(svc.score(X_train_tfidf, twenty_train.target) * 100, 2)\n",
    "print(\"Accuracy with SVM Classifier is :\", acc_knn / 100)"
   ]
  },
  {
   "cell_type": "markdown",
   "metadata": {},
   "source": [
    "#### 2. Set the tfidf vectorizer parameter to use bigram and see how the accuracy changes TfidfVectorizer(ngram_range=(1,2))"
   ]
  },
  {
   "cell_type": "code",
   "execution_count": 12,
   "metadata": {},
   "outputs": [],
   "source": [
    "#setting the tfidf vectorizer parameter to bigram\n",
    "tfidf_Vect_bigram = TfidfVectorizer(ngram_range=(1, 2))"
   ]
  },
  {
   "cell_type": "code",
   "execution_count": 13,
   "metadata": {},
   "outputs": [],
   "source": [
    "#Transorming the data\n",
    "X_train_tfidf_bigram = tfidf_Vect_bigram.fit_transform(twenty_train.data)"
   ]
  },
  {
   "cell_type": "code",
   "execution_count": 14,
   "metadata": {},
   "outputs": [
    {
     "data": {
      "text/plain": [
       "MultinomialNB()"
      ]
     },
     "execution_count": 14,
     "metadata": {},
     "output_type": "execute_result"
    }
   ],
   "source": [
    "#Buliding MultinomialNB() Classifier\n",
    "clf_bigram = MultinomialNB()\n",
    "clf_bigram.fit(X_train_tfidf_bigram, twenty_train.target)"
   ]
  },
  {
   "cell_type": "code",
   "execution_count": 15,
   "metadata": {},
   "outputs": [],
   "source": [
    "#Evaluate\n",
    "twenty_test_bigram = fetch_20newsgroups(subset='test', shuffle=True)\n",
    "X_test_tfidf_bigram = tfidf_Vect_bigram.transform(twenty_test.data)"
   ]
  },
  {
   "cell_type": "code",
   "execution_count": 16,
   "metadata": {},
   "outputs": [],
   "source": [
    "#Predecting the data\n",
    "predicted_bigram = clf_bigram.predict(X_test_tfidf_bigram)"
   ]
  },
  {
   "cell_type": "code",
   "execution_count": 17,
   "metadata": {},
   "outputs": [
    {
     "name": "stdout",
     "output_type": "stream",
     "text": [
      "Accuracy for tf-idf vectorizer (bigram) using MultinomialNB classifier is :  0.7654\n"
     ]
    }
   ],
   "source": [
    "#Finding the Accuracy using MultinomialNB Classifer\n",
    "score_bigram = round(metrics.accuracy_score(twenty_test_bigram.target, predicted_bigram), 4)\n",
    "print(\"Accuracy for tf-idf vectorizer (bigram) using MultinomialNB classifier is : \", score_bigram)"
   ]
  },
  {
   "cell_type": "code",
   "execution_count": 18,
   "metadata": {},
   "outputs": [
    {
     "data": {
      "text/plain": [
       "KNeighborsClassifier(n_neighbors=2)"
      ]
     },
     "execution_count": 18,
     "metadata": {},
     "output_type": "execute_result"
    }
   ],
   "source": [
    "#Buliding the SVC Classifier\n",
    "svc = KNeighborsClassifier(n_neighbors=2)\n",
    "svc.fit(X_train_tfidf_bigram, twenty_train.target)"
   ]
  },
  {
   "cell_type": "code",
   "execution_count": 19,
   "metadata": {},
   "outputs": [
    {
     "name": "stdout",
     "output_type": "stream",
     "text": [
      "Accuracy for tf-idf vectorizer (bigram) using SVC classifier is : 0.9209999999999999\n"
     ]
    }
   ],
   "source": [
    "#Finding the accuracy using SVC Classifier\n",
    "acc_knn_bigram = round(svc.score(X_train_tfidf_bigram, twenty_train.target) * 100, 2)\n",
    "print(\"Accuracy for tf-idf vectorizer (bigram) using SVC classifier is :\", acc_knn_bigram / 100)"
   ]
  },
  {
   "cell_type": "markdown",
   "metadata": {},
   "source": [
    "#### 3.Set tfidf vectorizer argument to use stop_words='english'and see how accuracy changes"
   ]
  },
  {
   "cell_type": "code",
   "execution_count": 20,
   "metadata": {},
   "outputs": [],
   "source": [
    "#setting the tfidf vectorizer parameter to use stop_word = 'english'\n",
    "tfidf_Vect_stopwords = TfidfVectorizer(stop_words='english')"
   ]
  },
  {
   "cell_type": "code",
   "execution_count": 21,
   "metadata": {},
   "outputs": [],
   "source": [
    "#Transorming the data\n",
    "X_train_tfidf_stopwords = tfidf_Vect_stopwords.fit_transform(twenty_train.data)"
   ]
  },
  {
   "cell_type": "code",
   "execution_count": 22,
   "metadata": {},
   "outputs": [
    {
     "data": {
      "text/plain": [
       "MultinomialNB()"
      ]
     },
     "execution_count": 22,
     "metadata": {},
     "output_type": "execute_result"
    }
   ],
   "source": [
    "#Buliding MultinomialNB() Classifier\n",
    "clf_stopwords = MultinomialNB()\n",
    "clf_stopwords.fit(X_train_tfidf_stopwords, twenty_train.target)"
   ]
  },
  {
   "cell_type": "code",
   "execution_count": 23,
   "metadata": {},
   "outputs": [],
   "source": [
    "#Evaluate\n",
    "twenty_test_stopwords = fetch_20newsgroups(subset='test', shuffle=True)\n",
    "X_test_tfidf_stopwords = tfidf_Vect_stopwords.transform(twenty_test.data)"
   ]
  },
  {
   "cell_type": "code",
   "execution_count": 24,
   "metadata": {},
   "outputs": [],
   "source": [
    "#Predecting the data\n",
    "predicted_stopwords = clf_stopwords.predict(X_test_tfidf_stopwords)"
   ]
  },
  {
   "cell_type": "code",
   "execution_count": 25,
   "metadata": {},
   "outputs": [
    {
     "name": "stdout",
     "output_type": "stream",
     "text": [
      "Accuracy for tf-idf vectorizer (Stopwords) using MultinomialNB classifier is :  0.8169\n"
     ]
    }
   ],
   "source": [
    "#Finding the Accuracy using MultinomialNB Classifer\n",
    "score_stopwords = round(metrics.accuracy_score(twenty_test_bigram.target, predicted_stopwords), 4)\n",
    "print(\"Accuracy for tf-idf vectorizer (Stopwords) using MultinomialNB classifier is : \", score_stopwords)"
   ]
  },
  {
   "cell_type": "code",
   "execution_count": 26,
   "metadata": {},
   "outputs": [
    {
     "data": {
      "text/plain": [
       "KNeighborsClassifier(n_neighbors=2)"
      ]
     },
     "execution_count": 26,
     "metadata": {},
     "output_type": "execute_result"
    }
   ],
   "source": [
    "#Buliding the SVC Classifier\n",
    "svc = KNeighborsClassifier(n_neighbors=2)\n",
    "svc.fit(X_train_tfidf_stopwords, twenty_train.target)"
   ]
  },
  {
   "cell_type": "code",
   "execution_count": 27,
   "metadata": {},
   "outputs": [
    {
     "name": "stdout",
     "output_type": "stream",
     "text": [
      "Accuracy for tf-idf vectorizer (bstopwords) using SVC classifier is : 0.9244\n"
     ]
    }
   ],
   "source": [
    "#Finding the accuracy using SVC Classifier\n",
    "acc_knn_stopwords = round(svc.score(X_train_tfidf_stopwords, twenty_train.target) * 100, 2)\n",
    "print(\"Accuracy for tf-idf vectorizer (bstopwords) using SVC classifier is :\", acc_knn_stopwords / 100)"
   ]
  },
  {
   "cell_type": "code",
   "execution_count": 28,
   "metadata": {},
   "outputs": [
    {
     "name": "stdout",
     "output_type": "stream",
     "text": [
      "Accuracy using MultinomialNB Classifier :  0.7738980350504514\n",
      "Accuracy when tf-idf vectorizer paramater set to bigram using MultinominalNB Classifier:  0.7654\n",
      "Accuracy when tf-idf vectorizer paramater set to stopwords(English) using MultinominalNB Classifier:  0.8169\n",
      "  \n",
      "Accuracy using SVM Classifier :  0.9257\n",
      "Accuracy when tf-idf vectorizer paramater set to bigram using SVM Classifier  :  0.9209999999999999\n",
      "Accuracy when tf-idf vectorizer paramater set to stopwords(English) using SVM Classifier:  0.9244\n"
     ]
    }
   ],
   "source": [
    "print('Accuracy using MultinomialNB Classifier : ' ,score)\n",
    "print('Accuracy when tf-idf vectorizer paramater set to bigram using MultinominalNB Classifier: ' ,score_bigram)\n",
    "print('Accuracy when tf-idf vectorizer paramater set to stopwords(English) using MultinominalNB Classifier: ' ,score_stopwords)\n",
    "print('  ')\n",
    "print('Accuracy using SVM Classifier : ' ,acc_knn / 100)\n",
    "print('Accuracy when tf-idf vectorizer paramater set to bigram using SVM Classifier  : ' ,acc_knn_bigram / 100)\n",
    "print('Accuracy when tf-idf vectorizer paramater set to stopwords(English) using SVM Classifier: ' ,acc_knn_stopwords / 100)"
   ]
  },
  {
   "cell_type": "markdown",
   "metadata": {},
   "source": [
    "#### Observations :\n",
    "##### Accuracy of the model is high when we used SVM classifier than MultinomialNB Classifier\n",
    "   1. Accuracy using MultinomialNB Classifier :  0.77\n",
    "   2. Accuracy using SVM Classifier :  0.92\n",
    "   \n",
    "#####  Accuracy of the model is less when tf-idf parameter set to bigram using Multinominal Classifier than the unigram\n",
    "   1. Accuracy with parameter set to bigram using MultinominalNB Classifier : 0.76\n",
    "   2. Accuracy of model without parameter changes using MultinominalNB Classifier : 0.77\n",
    "\n",
    "##### Accuracy of the model is more when tf-idf parameter set to stopwords using Multinominal Classifier than the bigram\n",
    "   1. Accuracy with parameter set to stopwords using MultinominalNB Classifier : 0.81\n",
    "   2. Accuracy with parameter set to bigram using MultinominalNB Classifier : 0.76\n",
    "  \n",
    "##### Accuracy of the model is equal when tf-idf parameter set to bigram ,stopwords using SVC Classifier to the normal\n",
    "   1. Accuracy with parameter set to bigram using SVC Classifier : 0.92\n",
    "   2. Accuracy with parameter set to stopwords using SVC Classifier : 0.92\n",
    "   3. Accuracy of model without parameter changes using SVC Classifier : 0.92\n",
    "   \n",
    "   \n",
    " "
   ]
  },
  {
   "cell_type": "code",
   "execution_count": null,
   "metadata": {},
   "outputs": [],
   "source": []
  }
 ],
 "metadata": {
  "kernelspec": {
   "display_name": "Python 3",
   "language": "python",
   "name": "python3"
  },
  "language_info": {
   "codemirror_mode": {
    "name": "ipython",
    "version": 3
   },
   "file_extension": ".py",
   "mimetype": "text/x-python",
   "name": "python",
   "nbconvert_exporter": "python",
   "pygments_lexer": "ipython3",
   "version": "3.8.5"
  }
 },
 "nbformat": 4,
 "nbformat_minor": 4
}
