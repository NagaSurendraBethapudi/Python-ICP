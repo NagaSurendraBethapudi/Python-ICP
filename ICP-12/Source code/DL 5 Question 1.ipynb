{
 "cells": [
  {
   "cell_type": "code",
   "execution_count": 1,
   "id": "alone-houston",
   "metadata": {},
   "outputs": [],
   "source": [
    "#Importing the libraries\n",
    "import pandas as pd \n",
    "from keras.models import load_model\n",
    "import numpy as np\n",
    "from keras.preprocessing.text import Tokenizer\n",
    "from keras.preprocessing.sequence import pad_sequences\n",
    "import re"
   ]
  },
  {
   "cell_type": "code",
   "execution_count": 2,
   "id": "recent-shift",
   "metadata": {},
   "outputs": [],
   "source": [
    "#sample tweet\n",
    "tweet = ['A lot of good things are happening. We are respected again throughout the world, and that\\'s a great thing.@realDonaldTrump']"
   ]
  },
  {
   "cell_type": "code",
   "execution_count": 3,
   "id": "major-fraud",
   "metadata": {},
   "outputs": [],
   "source": [
    "#reloading the model\n",
    "model = load_model('twitter_model.h5')"
   ]
  },
  {
   "cell_type": "code",
   "execution_count": 4,
   "id": "gross-video",
   "metadata": {},
   "outputs": [],
   "source": [
    "#enhancing the text data\n",
    "for i in range(len(tweet)):\n",
    "    tweet[i] = tweet[i].lower() #changes all the upper characters to lower characters\n",
    "    tweet[i] = re.sub('[^a-zA-z0-9\\s]', '', tweet[i]) #removes the special characters "
   ]
  },
  {
   "cell_type": "code",
   "execution_count": 5,
   "id": "informative-parallel",
   "metadata": {},
   "outputs": [
    {
     "data": {
      "text/plain": [
       "['a lot of good things are happening we are respected again throughout the world and thats a great thingrealdonaldtrump']"
      ]
     },
     "execution_count": 5,
     "metadata": {},
     "output_type": "execute_result"
    }
   ],
   "source": [
    "tweet #reprinting the tweet again"
   ]
  },
  {
   "cell_type": "code",
   "execution_count": 6,
   "id": "improving-ceiling",
   "metadata": {},
   "outputs": [],
   "source": [
    "#Tokenization\n",
    "max_features = 2000\n",
    "tokenizer = Tokenizer(num_words=max_features, split=' ') #splitting the text to tokens\n",
    "tokenizer.fit_on_texts(tweet)"
   ]
  },
  {
   "cell_type": "code",
   "execution_count": 7,
   "id": "planned-volunteer",
   "metadata": {},
   "outputs": [
    {
     "name": "stdout",
     "output_type": "stream",
     "text": [
      "[[1, 3, 4, 5, 6, 2, 7, 8, 2, 9, 10, 11, 12, 13, 14, 15, 1, 16, 17]]\n"
     ]
    }
   ],
   "source": [
    "tweet = tokenizer.texts_to_sequences(tweet) #converting texts to sequences \n",
    "print(tweet)"
   ]
  },
  {
   "cell_type": "code",
   "execution_count": 10,
   "id": "allied-laugh",
   "metadata": {},
   "outputs": [
    {
     "name": "stdout",
     "output_type": "stream",
     "text": [
      "[[0.48642638 0.5135736 ]]\n"
     ]
    }
   ],
   "source": [
    "print(model.predict(tweet)) #predecting the tweet"
   ]
  },
  {
   "cell_type": "code",
   "execution_count": 11,
   "id": "collectible-crazy",
   "metadata": {},
   "outputs": [
    {
     "name": "stdout",
     "output_type": "stream",
     "text": [
      "1/1 - 0s\n",
      "positive\n"
     ]
    }
   ],
   "source": [
    "sentiment = model.predict(tweet,batch_size=1,verbose = 2) #predecting the sentiment of the tweet\n",
    "\n",
    "if(np.argmax(sentiment) == 0): #negative tweet\n",
    "    print(\"negative\")\n",
    "elif (np.argmax(sentiment) == 1): #positive tweet\n",
    "    print(\"positive\")"
   ]
  },
  {
   "cell_type": "markdown",
   "id": "through-event",
   "metadata": {},
   "source": [
    "#### Observations:\n",
    "Model detected the tweet as positive"
   ]
  }
 ],
 "metadata": {
  "kernelspec": {
   "display_name": "Python 3",
   "language": "python",
   "name": "python3"
  },
  "language_info": {
   "codemirror_mode": {
    "name": "ipython",
    "version": 3
   },
   "file_extension": ".py",
   "mimetype": "text/x-python",
   "name": "python",
   "nbconvert_exporter": "python",
   "pygments_lexer": "ipython3",
   "version": "3.8.8"
  }
 },
 "nbformat": 4,
 "nbformat_minor": 5
}
