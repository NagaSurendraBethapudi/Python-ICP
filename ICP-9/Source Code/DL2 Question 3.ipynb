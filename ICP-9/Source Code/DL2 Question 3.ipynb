{
 "cells": [
  {
   "cell_type": "markdown",
   "id": "suburban-flight",
   "metadata": {},
   "source": [
    "## DL2 - Question 3\n",
    "#### We had used 2 hidden layers and Relu activation. Try to change the number of hidden layer and the activation to tanh or sigmoid and see what happens.\n",
    "(https://umkc.box.com/s/10nrlk6216fncengv7qxbbw5o9vgc3hs"
   ]
  },
  {
   "cell_type": "code",
   "execution_count": 1,
   "id": "norman-attendance",
   "metadata": {},
   "outputs": [],
   "source": [
    "# Importing the libraries\n",
    "from keras import Sequential\n",
    "from keras.datasets import mnist\n",
    "import numpy as np\n",
    "import matplotlib.pyplot as plt\n",
    "from keras.layers import Dense\n",
    "from keras.utils import to_categorical"
   ]
  },
  {
   "cell_type": "code",
   "execution_count": 2,
   "id": "textile-instruction",
   "metadata": {},
   "outputs": [
    {
     "data": {
      "image/png": "[encoded data removed]",
      "text/plain": [
       "<Figure size 432x288 with 1 Axes>"
      ]
     },
     "metadata": {
      "needs_background": "light"
     },
     "output_type": "display_data"
    }
   ],
   "source": [
    "#loading the train and test data \n",
    "(train_images,train_labels),(test_images, test_labels) = mnist.load_data()\n",
    "\n",
    "#display the first image in the training data\n",
    "plt.imshow(train_images[0,:,:],cmap='gray')\n",
    "plt.title('Ground Truth : {}'.format(train_labels[0]))\n",
    "plt.show()"
   ]
  },
  {
   "cell_type": "code",
   "execution_count": 3,
   "id": "revolutionary-spouse",
   "metadata": {},
   "outputs": [],
   "source": [
    "#process the data\n",
    "#1. convert each image of shape 28*28 to 784 dimensional which will be fed to the network as a single feature\n",
    "dimData = np.prod(train_images.shape[1:])\n",
    "train_data = train_images.reshape(train_images.shape[0],dimData)\n",
    "test_data = test_images.reshape(test_images.shape[0],dimData)"
   ]
  },
  {
   "cell_type": "code",
   "execution_count": 4,
   "id": "metallic-precipitation",
   "metadata": {},
   "outputs": [],
   "source": [
    "#convert data to float and scale values between 0 and 1\n",
    "train_data = train_data.astype('float')\n",
    "test_data = test_data.astype('float')\n",
    "#scale data\n",
    "train_data /=255.0\n",
    "test_data /=255.0"
   ]
  },
  {
   "cell_type": "code",
   "execution_count": 5,
   "id": "affected-application",
   "metadata": {},
   "outputs": [],
   "source": [
    "#change the labels from integer to one-hot encoding\n",
    "train_labels_one_hot = to_categorical(train_labels)\n",
    "test_labels_one_hot = to_categorical(test_labels)"
   ]
  },
  {
   "cell_type": "code",
   "execution_count": 6,
   "id": "bacterial-infrared",
   "metadata": {},
   "outputs": [],
   "source": [
    "#creating network\n",
    "model = Sequential()\n",
    "model.add(Dense(512, activation='relu', input_shape=(dimData,)))\n",
    "model.add(Dense(512, activation='relu'))\n",
    "model.add(Dense(300, activation='tanh'))\n",
    "model.add(Dense(300, activation='sigmoid'))\n",
    "model.add(Dense(10, activation='sigmoid'))"
   ]
  },
  {
   "cell_type": "code",
   "execution_count": 7,
   "id": "ecological-hudson",
   "metadata": {},
   "outputs": [
    {
     "name": "stdout",
     "output_type": "stream",
     "text": [
      "Epoch 1/20\n",
      "235/235 [==============================] - 22s 95ms/step - loss: 0.3669 - accuracy: 0.8937 - val_loss: 0.2413 - val_accuracy: 0.9266\n",
      "Epoch 2/20\n",
      "235/235 [==============================] - 20s 87ms/step - loss: 0.1050 - accuracy: 0.9688 - val_loss: 0.1108 - val_accuracy: 0.9695\n",
      "Epoch 3/20\n",
      "235/235 [==============================] - 20s 86ms/step - loss: 0.0671 - accuracy: 0.9797 - val_loss: 0.0894 - val_accuracy: 0.9742\n",
      "Epoch 4/20\n",
      "235/235 [==============================] - 20s 87ms/step - loss: 0.0479 - accuracy: 0.9856 - val_loss: 0.0840 - val_accuracy: 0.9766\n",
      "Epoch 5/20\n",
      "235/235 [==============================] - 21s 89ms/step - loss: 0.0359 - accuracy: 0.9892 - val_loss: 0.0929 - val_accuracy: 0.9760\n",
      "Epoch 6/20\n",
      "235/235 [==============================] - 21s 88ms/step - loss: 0.0279 - accuracy: 0.9918 - val_loss: 0.0836 - val_accuracy: 0.9797\n",
      "Epoch 7/20\n",
      "235/235 [==============================] - 21s 89ms/step - loss: 0.0243 - accuracy: 0.9920 - val_loss: 0.0767 - val_accuracy: 0.9817\n",
      "Epoch 8/20\n",
      "235/235 [==============================] - 21s 88ms/step - loss: 0.0187 - accuracy: 0.9941 - val_loss: 0.0857 - val_accuracy: 0.9807\n",
      "Epoch 9/20\n",
      "235/235 [==============================] - 21s 88ms/step - loss: 0.0168 - accuracy: 0.9947 - val_loss: 0.1222 - val_accuracy: 0.9750\n",
      "Epoch 10/20\n",
      "235/235 [==============================] - 21s 87ms/step - loss: 0.0143 - accuracy: 0.9956 - val_loss: 0.0999 - val_accuracy: 0.9806\n",
      "Epoch 11/20\n",
      "235/235 [==============================] - 21s 90ms/step - loss: 0.0119 - accuracy: 0.9963 - val_loss: 0.1045 - val_accuracy: 0.9787\n",
      "Epoch 12/20\n",
      "235/235 [==============================] - 21s 90ms/step - loss: 0.0111 - accuracy: 0.9968 - val_loss: 0.1040 - val_accuracy: 0.9792\n",
      "Epoch 13/20\n",
      "235/235 [==============================] - 22s 92ms/step - loss: 0.0094 - accuracy: 0.9973 - val_loss: 0.0938 - val_accuracy: 0.9823\n",
      "Epoch 14/20\n",
      "235/235 [==============================] - 22s 95ms/step - loss: 0.0088 - accuracy: 0.9973 - val_loss: 0.1159 - val_accuracy: 0.9786\n",
      "Epoch 15/20\n",
      "235/235 [==============================] - 22s 94ms/step - loss: 0.0090 - accuracy: 0.9975 - val_loss: 0.1049 - val_accuracy: 0.9800\n",
      "Epoch 16/20\n",
      "235/235 [==============================] - 24s 101ms/step - loss: 0.0074 - accuracy: 0.9980 - val_loss: 0.0988 - val_accuracy: 0.9825\n",
      "Epoch 17/20\n",
      "235/235 [==============================] - 20s 85ms/step - loss: 0.0064 - accuracy: 0.9983 - val_loss: 0.1102 - val_accuracy: 0.9815\n",
      "Epoch 18/20\n",
      "235/235 [==============================] - 21s 89ms/step - loss: 0.0065 - accuracy: 0.9980 - val_loss: 0.1090 - val_accuracy: 0.9828\n",
      "Epoch 19/20\n",
      "235/235 [==============================] - 21s 88ms/step - loss: 0.0075 - accuracy: 0.9979 - val_loss: 0.1002 - val_accuracy: 0.9837\n",
      "Epoch 20/20\n",
      "235/235 [==============================] - 21s 90ms/step - loss: 0.0052 - accuracy: 0.9985 - val_loss: 0.1009 - val_accuracy: 0.9837\n"
     ]
    }
   ],
   "source": [
    "model.compile(optimizer='rmsprop', loss='categorical_crossentropy', metrics=['accuracy'])\n",
    "history = model.fit(train_data, train_labels_one_hot, batch_size=256, epochs=20, verbose=1,validation_data=(test_data, test_labels_one_hot))"
   ]
  },
  {
   "cell_type": "code",
   "execution_count": 8,
   "id": "automated-production",
   "metadata": {},
   "outputs": [
    {
     "name": "stdout",
     "output_type": "stream",
     "text": [
      "313/313 [==============================] - 3s 10ms/step - loss: 0.1009 - accuracy: 0.9837\n",
      "Evaluation result on Test Data : Loss = 0.10090132802724838, accuracy = 0.9836999773979187\n"
     ]
    }
   ],
   "source": [
    "[test_loss, test_acc] = model.evaluate(test_data, test_labels_one_hot)\n",
    "print(\"Evaluation result on Test Data : Loss = {}, accuracy = {}\".format(test_loss, test_acc))"
   ]
  },
  {
   "cell_type": "code",
   "execution_count": 9,
   "id": "sitting-opportunity",
   "metadata": {},
   "outputs": [
    {
     "name": "stdout",
     "output_type": "stream",
     "text": [
      "dict_keys(['loss', 'accuracy', 'val_loss', 'val_accuracy'])\n"
     ]
    }
   ],
   "source": [
    "#Listing all the data in history (Call Backs)\n",
    "print(history.history.keys())"
   ]
  },
  {
   "cell_type": "code",
   "execution_count": 13,
   "id": "color-detroit",
   "metadata": {},
   "outputs": [
    {
     "data": {
      "image/png": "[encoded data removed]",
      "text/plain": [
       "<Figure size 432x288 with 1 Axes>"
      ]
     },
     "metadata": {
      "needs_background": "light"
     },
     "output_type": "display_data"
    }
   ],
   "source": [
    "# Plotting the loss for both training data and validation data using the history object.\n",
    "plt.plot(history.history['loss'])\n",
    "plt.plot(history.history['val_loss'])\n",
    "plt.title('Loss data comparison')\n",
    "plt.legend(['train', 'test'], loc='upper right')\n",
    "plt.xlabel('epoch')\n",
    "plt.ylabel('Loss')\n",
    "plt.show()"
   ]
  },
  {
   "cell_type": "markdown",
   "id": "hearing-original",
   "metadata": {},
   "source": [
    "#### Observations :\n",
    "Loss of the model is around 10 %"
   ]
  },
  {
   "cell_type": "code",
   "execution_count": 14,
   "id": "brief-parks",
   "metadata": {},
   "outputs": [
    {
     "data": {
      "image/png": "[encoded data removed]",
      "text/plain": [
       "<Figure size 432x288 with 1 Axes>"
      ]
     },
     "metadata": {
      "needs_background": "light"
     },
     "output_type": "display_data"
    }
   ],
   "source": [
    "# Plotting the Accuracy for both training data and validation data using the history object.\n",
    "plt.plot(history.history['accuracy'])\n",
    "plt.plot(history.history['val_accuracy'])\n",
    "plt.legend(['train', 'test'], loc='lower right')\n",
    "plt.title('Accuracy data comparison')\n",
    "plt.ylabel('Accuracy')\n",
    "plt.xlabel('epoch')\n",
    "plt.show()"
   ]
  },
  {
   "cell_type": "markdown",
   "id": "useful-salvation",
   "metadata": {},
   "source": [
    "#### Observations :\n",
    "Accuracy of the model is around 98 %"
   ]
  },
  {
   "cell_type": "markdown",
   "id": "alternate-possible",
   "metadata": {},
   "source": [
    "## Conclusions after adding more hidden layers:\n",
    "1. Loss was reduced to 10% from 12%\n",
    "2. Accuracy was same"
   ]
  }
 ],
 "metadata": {
  "kernelspec": {
   "display_name": "Python 3",
   "language": "python",
   "name": "python3"
  },
  "language_info": {
   "codemirror_mode": {
    "name": "ipython",
    "version": 3
   },
   "file_extension": ".py",
   "mimetype": "text/x-python",
   "name": "python",
   "nbconvert_exporter": "python",
   "pygments_lexer": "ipython3",
   "version": "3.8.8"
  }
 },
 "nbformat": 4,
 "nbformat_minor": 5
}
