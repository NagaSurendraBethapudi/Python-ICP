{
 "cells": [
  {
   "cell_type": "markdown",
   "id": "suburban-flight",
   "metadata": {},
   "source": [
    "## DL2 - Question 4\n",
    "#### Run the same code without scaling the imagesand check the performance\n",
    "(https://umkc.box.com/s/10nrlk6216fncengv7qxbbw5o9vgc3hs"
   ]
  },
  {
   "cell_type": "code",
   "execution_count": 1,
   "id": "norman-attendance",
   "metadata": {},
   "outputs": [],
   "source": [
    "# Importing the libraries\n",
    "from keras import Sequential\n",
    "from keras.datasets import mnist\n",
    "import numpy as np\n",
    "import matplotlib.pyplot as plt\n",
    "from keras.layers import Dense\n",
    "from keras.utils import to_categorical"
   ]
  },
  {
   "cell_type": "code",
   "execution_count": 2,
   "id": "textile-instruction",
   "metadata": {},
   "outputs": [
    {
     "data": {
      "image/png": "[encoded data removed]",
      "text/plain": [
       "<Figure size 432x288 with 1 Axes>"
      ]
     },
     "metadata": {
      "needs_background": "light"
     },
     "output_type": "display_data"
    }
   ],
   "source": [
    "#loading the train and test data \n",
    "(train_images,train_labels),(test_images, test_labels) = mnist.load_data()\n",
    "\n",
    "#display the first image in the training data\n",
    "plt.imshow(train_images[0,:,:],cmap='gray')\n",
    "plt.title('Ground Truth : {}'.format(train_labels[0]))\n",
    "plt.show()"
   ]
  },
  {
   "cell_type": "code",
   "execution_count": 3,
   "id": "revolutionary-spouse",
   "metadata": {},
   "outputs": [],
   "source": [
    "#process the data\n",
    "#1. convert each image of shape 28*28 to 784 dimensional which will be fed to the network as a single feature\n",
    "dimData = np.prod(train_images.shape[1:])\n",
    "train_data = train_images.reshape(train_images.shape[0],dimData)\n",
    "test_data = test_images.reshape(test_images.shape[0],dimData)"
   ]
  },
  {
   "cell_type": "code",
   "execution_count": 4,
   "id": "metallic-precipitation",
   "metadata": {},
   "outputs": [],
   "source": [
    "#convert data to float and scale values between 0 and 1\n",
    "train_data = train_data.astype('float')\n",
    "test_data = test_data.astype('float')"
   ]
  },
  {
   "cell_type": "code",
   "execution_count": 5,
   "id": "affected-application",
   "metadata": {},
   "outputs": [],
   "source": [
    "#change the labels from integer to one-hot encoding\n",
    "train_labels_one_hot = to_categorical(train_labels)\n",
    "test_labels_one_hot = to_categorical(test_labels)"
   ]
  },
  {
   "cell_type": "code",
   "execution_count": 6,
   "id": "bacterial-infrared",
   "metadata": {},
   "outputs": [],
   "source": [
    "#creating network\n",
    "model = Sequential()\n",
    "model.add(Dense(512, activation='relu', input_shape=(dimData,)))\n",
    "model.add(Dense(512, activation='relu'))\n",
    "model.add(Dense(300, activation='tanh'))\n",
    "model.add(Dense(300, activation='sigmoid'))\n",
    "model.add(Dense(10, activation='sigmoid'))"
   ]
  },
  {
   "cell_type": "code",
   "execution_count": 7,
   "id": "ecological-hudson",
   "metadata": {},
   "outputs": [
    {
     "name": "stdout",
     "output_type": "stream",
     "text": [
      "Epoch 1/20\n",
      "235/235 [==============================] - 22s 95ms/step - loss: 0.5040 - accuracy: 0.8572 - val_loss: 0.2130 - val_accuracy: 0.9364\n",
      "Epoch 2/20\n",
      "235/235 [==============================] - 21s 91ms/step - loss: 0.2049 - accuracy: 0.9383 - val_loss: 0.1961 - val_accuracy: 0.9414\n",
      "Epoch 3/20\n",
      "235/235 [==============================] - 20s 87ms/step - loss: 0.1685 - accuracy: 0.9495 - val_loss: 0.1618 - val_accuracy: 0.9511\n",
      "Epoch 4/20\n",
      "235/235 [==============================] - 21s 88ms/step - loss: 0.1554 - accuracy: 0.9531 - val_loss: 0.2390 - val_accuracy: 0.9293\n",
      "Epoch 5/20\n",
      "235/235 [==============================] - 21s 89ms/step - loss: 0.1541 - accuracy: 0.9534 - val_loss: 0.2401 - val_accuracy: 0.9192\n",
      "Epoch 6/20\n",
      "235/235 [==============================] - 20s 86ms/step - loss: 0.1446 - accuracy: 0.9565 - val_loss: 0.2372 - val_accuracy: 0.9244\n",
      "Epoch 7/20\n",
      "235/235 [==============================] - 21s 88ms/step - loss: 0.1373 - accuracy: 0.9586 - val_loss: 0.1805 - val_accuracy: 0.9467\n",
      "Epoch 8/20\n",
      "235/235 [==============================] - 21s 90ms/step - loss: 0.1280 - accuracy: 0.9617 - val_loss: 0.1460 - val_accuracy: 0.9592\n",
      "Epoch 9/20\n",
      "235/235 [==============================] - 22s 93ms/step - loss: 0.1284 - accuracy: 0.9607 - val_loss: 0.1526 - val_accuracy: 0.9562\n",
      "Epoch 10/20\n",
      "235/235 [==============================] - 22s 93ms/step - loss: 0.1290 - accuracy: 0.9610 - val_loss: 0.1393 - val_accuracy: 0.9599\n",
      "Epoch 11/20\n",
      "235/235 [==============================] - 21s 89ms/step - loss: 0.1323 - accuracy: 0.9607 - val_loss: 0.1305 - val_accuracy: 0.9609\n",
      "Epoch 12/20\n",
      "235/235 [==============================] - 21s 88ms/step - loss: 0.1223 - accuracy: 0.9635 - val_loss: 0.1416 - val_accuracy: 0.9583\n",
      "Epoch 13/20\n",
      "235/235 [==============================] - 21s 88ms/step - loss: 0.1200 - accuracy: 0.9646 - val_loss: 0.1578 - val_accuracy: 0.9516\n",
      "Epoch 14/20\n",
      "235/235 [==============================] - 21s 88ms/step - loss: 0.1291 - accuracy: 0.9621 - val_loss: 0.1355 - val_accuracy: 0.9597\n",
      "Epoch 15/20\n",
      "235/235 [==============================] - 20s 84ms/step - loss: 0.1116 - accuracy: 0.9661 - val_loss: 0.1318 - val_accuracy: 0.9603\n",
      "Epoch 16/20\n",
      "235/235 [==============================] - 21s 88ms/step - loss: 0.1100 - accuracy: 0.9667 - val_loss: 0.1218 - val_accuracy: 0.9636\n",
      "Epoch 17/20\n",
      "235/235 [==============================] - 21s 87ms/step - loss: 0.1051 - accuracy: 0.9683 - val_loss: 0.1142 - val_accuracy: 0.9667\n",
      "Epoch 18/20\n",
      "235/235 [==============================] - 21s 88ms/step - loss: 0.1034 - accuracy: 0.9694 - val_loss: 0.1133 - val_accuracy: 0.9676\n",
      "Epoch 19/20\n",
      "235/235 [==============================] - 22s 93ms/step - loss: 0.1029 - accuracy: 0.9698 - val_loss: 0.1480 - val_accuracy: 0.9570\n",
      "Epoch 20/20\n",
      "235/235 [==============================] - 21s 89ms/step - loss: 0.1038 - accuracy: 0.9681 - val_loss: 0.1271 - val_accuracy: 0.9628\n"
     ]
    }
   ],
   "source": [
    "model.compile(optimizer='rmsprop', loss='categorical_crossentropy', metrics=['accuracy'])\n",
    "history = model.fit(train_data, train_labels_one_hot, batch_size=256, epochs=20, verbose=1,validation_data=(test_data, test_labels_one_hot))"
   ]
  },
  {
   "cell_type": "code",
   "execution_count": 8,
   "id": "automated-production",
   "metadata": {},
   "outputs": [
    {
     "name": "stdout",
     "output_type": "stream",
     "text": [
      "313/313 [==============================] - 3s 10ms/step - loss: 0.1271 - accuracy: 0.9628\n",
      "Evaluation result on Test Data : Loss = 0.12711505591869354, accuracy = 0.9628000259399414\n"
     ]
    }
   ],
   "source": [
    "[test_loss, test_acc] = model.evaluate(test_data, test_labels_one_hot)\n",
    "print(\"Evaluation result on Test Data : Loss = {}, accuracy = {}\".format(test_loss, test_acc))"
   ]
  },
  {
   "cell_type": "code",
   "execution_count": 9,
   "id": "sitting-opportunity",
   "metadata": {},
   "outputs": [
    {
     "name": "stdout",
     "output_type": "stream",
     "text": [
      "dict_keys(['loss', 'accuracy', 'val_loss', 'val_accuracy'])\n"
     ]
    }
   ],
   "source": [
    "#Listing all the data in history (Call Backs)\n",
    "print(history.history.keys())"
   ]
  },
  {
   "cell_type": "code",
   "execution_count": 13,
   "id": "color-detroit",
   "metadata": {},
   "outputs": [
    {
     "data": {
      "image/png": "[encoded data removed]",
      "text/plain": [
       "<Figure size 432x288 with 1 Axes>"
      ]
     },
     "metadata": {
      "needs_background": "light"
     },
     "output_type": "display_data"
    }
   ],
   "source": [
    "# Plotting the loss for both training data and validation data using the history object.\n",
    "plt.plot(history.history['loss'])\n",
    "plt.plot(history.history['val_loss'])\n",
    "plt.title('Loss data comparison')\n",
    "plt.legend(['train', 'test'], loc='upper right')\n",
    "plt.xlabel('epoch')\n",
    "plt.ylabel('Loss')\n",
    "plt.show()"
   ]
  },
  {
   "cell_type": "markdown",
   "id": "hearing-original",
   "metadata": {},
   "source": [
    "#### Observations :\n",
    "Loss of the model is around 12 %"
   ]
  },
  {
   "cell_type": "code",
   "execution_count": 14,
   "id": "brief-parks",
   "metadata": {},
   "outputs": [
    {
     "data": {
      "image/png": "[encoded data removed]",
      "text/plain": [
       "<Figure size 432x288 with 1 Axes>"
      ]
     },
     "metadata": {
      "needs_background": "light"
     },
     "output_type": "display_data"
    }
   ],
   "source": [
    "# Plotting the Accuracy for both training data and validation data using the history object.\n",
    "plt.plot(history.history['accuracy'])\n",
    "plt.plot(history.history['val_accuracy'])\n",
    "plt.legend(['train', 'test'], loc='lower right')\n",
    "plt.title('Accuracy data comparison')\n",
    "plt.ylabel('Accuracy')\n",
    "plt.xlabel('epoch')\n",
    "plt.show()"
   ]
  },
  {
   "cell_type": "markdown",
   "id": "useful-salvation",
   "metadata": {},
   "source": [
    "#### Observations :\n",
    "Accuracy of the model is around 96 %"
   ]
  },
  {
   "cell_type": "markdown",
   "id": "unnecessary-documentary",
   "metadata": {},
   "source": [
    "## Conclusions without doing scaling:\n",
    "1. Loss was increased from 10% to 12%\n",
    "2. Accuracy was reduced to 96% from 98%"
   ]
  }
 ],
 "metadata": {
  "kernelspec": {
   "display_name": "Python 3",
   "language": "python",
   "name": "python3"
  },
  "language_info": {
   "codemirror_mode": {
    "name": "ipython",
    "version": 3
   },
   "file_extension": ".py",
   "mimetype": "text/x-python",
   "name": "python",
   "nbconvert_exporter": "python",
   "pygments_lexer": "ipython3",
   "version": "3.8.8"
  }
 },
 "nbformat": 4,
 "nbformat_minor": 5
}
