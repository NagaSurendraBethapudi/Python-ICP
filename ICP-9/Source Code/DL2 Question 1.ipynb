{
 "cells": [
  {
   "cell_type": "markdown",
   "id": "eight-alert",
   "metadata": {},
   "source": [
    "## DL2 - Question 1\n",
    "#### Plot the loss and accuracy for both training data and validation datausing the history object in the source code (https://umkc.box.com/s/10nrlk6216fncengv7qxbbw5o9vgc3hs"
   ]
  },
  {
   "cell_type": "code",
   "execution_count": 1,
   "id": "related-desert",
   "metadata": {},
   "outputs": [],
   "source": [
    "# Importing the libraries\n",
    "from keras import Sequential\n",
    "from keras.datasets import mnist\n",
    "import numpy as np\n",
    "import matplotlib.pyplot as plt\n",
    "from keras.layers import Dense\n",
    "from keras.utils import to_categorical"
   ]
  },
  {
   "cell_type": "code",
   "execution_count": 3,
   "id": "upper-terry",
   "metadata": {},
   "outputs": [
    {
     "data": {
      "image/png": "[encoded data removed]",
      "text/plain": [
       "<Figure size 432x288 with 1 Axes>"
      ]
     },
     "metadata": {
      "needs_background": "light"
     },
     "output_type": "display_data"
    }
   ],
   "source": [
    "#loading the train and test data \n",
    "(train_images,train_labels),(test_images, test_labels) = mnist.load_data()\n",
    "\n",
    "#display the first image in the training data\n",
    "plt.imshow(train_images[0,:,:],cmap='gray')\n",
    "plt.title('Ground Truth : {}'.format(train_labels[0]))\n",
    "plt.show()"
   ]
  },
  {
   "cell_type": "code",
   "execution_count": 4,
   "id": "owned-festival",
   "metadata": {},
   "outputs": [],
   "source": [
    "#process the data\n",
    "#1. convert each image of shape 28*28 to 784 dimensional which will be fed to the network as a single feature\n",
    "dimData = np.prod(train_images.shape[1:])\n",
    "train_data = train_images.reshape(train_images.shape[0],dimData)\n",
    "test_data = test_images.reshape(test_images.shape[0],dimData)"
   ]
  },
  {
   "cell_type": "code",
   "execution_count": 5,
   "id": "guided-might",
   "metadata": {},
   "outputs": [],
   "source": [
    "#convert data to float and scale values between 0 and 1\n",
    "train_data = train_data.astype('float')\n",
    "test_data = test_data.astype('float')\n",
    "#scale data\n",
    "train_data /=255.0\n",
    "test_data /=255.0"
   ]
  },
  {
   "cell_type": "code",
   "execution_count": 6,
   "id": "distinguished-simulation",
   "metadata": {},
   "outputs": [],
   "source": [
    "#change the labels from integer to one-hot encoding\n",
    "train_labels_one_hot = to_categorical(train_labels)\n",
    "test_labels_one_hot = to_categorical(test_labels)"
   ]
  },
  {
   "cell_type": "code",
   "execution_count": 7,
   "id": "gross-still",
   "metadata": {},
   "outputs": [],
   "source": [
    "#creating network\n",
    "model = Sequential()\n",
    "model.add(Dense(512, activation='relu', input_shape=(dimData,)))\n",
    "model.add(Dense(512, activation='relu'))\n",
    "model.add(Dense(10, activation='softmax'))"
   ]
  },
  {
   "cell_type": "code",
   "execution_count": 8,
   "id": "demographic-proxy",
   "metadata": {},
   "outputs": [
    {
     "name": "stdout",
     "output_type": "stream",
     "text": [
      "Epoch 1/20\n",
      "235/235 [==============================] - 17s 74ms/step - loss: 0.2690 - accuracy: 0.9173 - val_loss: 0.1416 - val_accuracy: 0.9580\n",
      "Epoch 2/20\n",
      "235/235 [==============================] - 17s 73ms/step - loss: 0.0926 - accuracy: 0.9708 - val_loss: 0.1279 - val_accuracy: 0.9607\n",
      "Epoch 3/20\n",
      "235/235 [==============================] - 15s 65ms/step - loss: 0.0582 - accuracy: 0.9818 - val_loss: 0.0798 - val_accuracy: 0.9756\n",
      "Epoch 4/20\n",
      "235/235 [==============================] - 15s 66ms/step - loss: 0.0400 - accuracy: 0.9872 - val_loss: 0.0740 - val_accuracy: 0.9785\n",
      "Epoch 5/20\n",
      "235/235 [==============================] - 15s 66ms/step - loss: 0.0286 - accuracy: 0.9908 - val_loss: 0.0682 - val_accuracy: 0.9826\n",
      "Epoch 6/20\n",
      "235/235 [==============================] - 16s 70ms/step - loss: 0.0224 - accuracy: 0.9929 - val_loss: 0.0848 - val_accuracy: 0.9761\n",
      "Epoch 7/20\n",
      "235/235 [==============================] - 17s 70ms/step - loss: 0.0164 - accuracy: 0.9945 - val_loss: 0.0816 - val_accuracy: 0.9788\n",
      "Epoch 8/20\n",
      "235/235 [==============================] - 16s 68ms/step - loss: 0.0129 - accuracy: 0.9957 - val_loss: 0.0859 - val_accuracy: 0.9805\n",
      "Epoch 9/20\n",
      "235/235 [==============================] - 15s 65ms/step - loss: 0.0114 - accuracy: 0.9958 - val_loss: 0.1136 - val_accuracy: 0.9749\n",
      "Epoch 10/20\n",
      "235/235 [==============================] - 15s 65ms/step - loss: 0.0099 - accuracy: 0.9966 - val_loss: 0.0905 - val_accuracy: 0.9830\n",
      "Epoch 11/20\n",
      "235/235 [==============================] - 15s 65ms/step - loss: 0.0078 - accuracy: 0.9975 - val_loss: 0.0791 - val_accuracy: 0.9844\n",
      "Epoch 12/20\n",
      "235/235 [==============================] - 16s 66ms/step - loss: 0.0062 - accuracy: 0.9980 - val_loss: 0.0895 - val_accuracy: 0.9856\n",
      "Epoch 13/20\n",
      "235/235 [==============================] - 16s 67ms/step - loss: 0.0066 - accuracy: 0.9979 - val_loss: 0.1120 - val_accuracy: 0.9810\n",
      "Epoch 14/20\n",
      "235/235 [==============================] - 16s 68ms/step - loss: 0.0058 - accuracy: 0.9981 - val_loss: 0.1179 - val_accuracy: 0.9791\n",
      "Epoch 15/20\n",
      "235/235 [==============================] - 16s 68ms/step - loss: 0.0052 - accuracy: 0.9983 - val_loss: 0.1125 - val_accuracy: 0.9838\n",
      "Epoch 16/20\n",
      "235/235 [==============================] - 16s 66ms/step - loss: 0.0045 - accuracy: 0.9987 - val_loss: 0.1451 - val_accuracy: 0.9802\n",
      "Epoch 17/20\n",
      "235/235 [==============================] - 17s 71ms/step - loss: 0.0047 - accuracy: 0.9986 - val_loss: 0.1155 - val_accuracy: 0.9825\n",
      "Epoch 18/20\n",
      "235/235 [==============================] - 17s 72ms/step - loss: 0.0046 - accuracy: 0.9986 - val_loss: 0.1208 - val_accuracy: 0.9838\n",
      "Epoch 19/20\n",
      "235/235 [==============================] - 17s 72ms/step - loss: 0.0036 - accuracy: 0.9989 - val_loss: 0.1245 - val_accuracy: 0.9842\n",
      "Epoch 20/20\n",
      "235/235 [==============================] - 17s 73ms/step - loss: 0.0034 - accuracy: 0.9989 - val_loss: 0.1244 - val_accuracy: 0.9835\n"
     ]
    }
   ],
   "source": [
    "model.compile(optimizer='rmsprop', loss='categorical_crossentropy', metrics=['accuracy'])\n",
    "history = model.fit(train_data, train_labels_one_hot, batch_size=256, epochs=20, verbose=1,validation_data=(test_data, test_labels_one_hot))"
   ]
  },
  {
   "cell_type": "code",
   "execution_count": 9,
   "id": "threaded-shield",
   "metadata": {},
   "outputs": [
    {
     "name": "stdout",
     "output_type": "stream",
     "text": [
      "313/313 [==============================] - 3s 9ms/step - loss: 0.1244 - accuracy: 0.9835\n",
      "Evaluation result on Test Data : Loss = 0.1244332417845726, accuracy = 0.9835000038146973\n"
     ]
    }
   ],
   "source": [
    "[test_loss, test_acc] = model.evaluate(test_data, test_labels_one_hot)\n",
    "print(\"Evaluation result on Test Data : Loss = {}, accuracy = {}\".format(test_loss, test_acc))"
   ]
  },
  {
   "cell_type": "code",
   "execution_count": 20,
   "id": "everyday-journal",
   "metadata": {},
   "outputs": [
    {
     "data": {
      "text/plain": [
       "dict_keys(['loss', 'accuracy', 'val_loss', 'val_accuracy'])"
      ]
     },
     "execution_count": 20,
     "metadata": {},
     "output_type": "execute_result"
    }
   ],
   "source": [
    "#Listing all the data in history (Call Backs)\n",
    "history.history.keys()"
   ]
  },
  {
   "cell_type": "code",
   "execution_count": 22,
   "id": "juvenile-requirement",
   "metadata": {},
   "outputs": [
    {
     "data": {
      "image/png": "[encoded data removed]",
      "text/plain": [
       "<Figure size 432x288 with 1 Axes>"
      ]
     },
     "metadata": {
      "needs_background": "light"
     },
     "output_type": "display_data"
    }
   ],
   "source": [
    "# Plotting the loss for both training data and validation data using the history object.\n",
    "plt.plot(history.history['loss'])\n",
    "plt.plot(history.history['val_loss'])\n",
    "plt.title('Loss data comparison')\n",
    "plt.legend(['train', 'test'], loc='upper right')\n",
    "plt.xlabel('epoch')\n",
    "plt.ylabel('Loss')\n",
    "plt.show()"
   ]
  },
  {
   "cell_type": "markdown",
   "id": "public-software",
   "metadata": {},
   "source": [
    "#### Observations :\n",
    "Loss of the model is around 12-13 %"
   ]
  },
  {
   "cell_type": "code",
   "execution_count": 23,
   "id": "charming-municipality",
   "metadata": {},
   "outputs": [
    {
     "data": {
      "image/png": "[encoded data removed]",
      "text/plain": [
       "<Figure size 432x288 with 1 Axes>"
      ]
     },
     "metadata": {
      "needs_background": "light"
     },
     "output_type": "display_data"
    }
   ],
   "source": [
    "# Plotting the Accuracy for both training data and validation data using the history object.\n",
    "plt.plot(history.history['accuracy'])\n",
    "plt.plot(history.history['val_accuracy'])\n",
    "plt.legend(['train', 'test'], loc='lower right')\n",
    "plt.title('Accuracy data comparison')\n",
    "plt.ylabel('Accuracy')\n",
    "plt.xlabel('epoch')\n",
    "plt.show()"
   ]
  },
  {
   "cell_type": "markdown",
   "id": "searching-slovak",
   "metadata": {},
   "source": [
    "#### Observations :\n",
    "Accuracy of the model is around 98 %"
   ]
  }
 ],
 "metadata": {
  "kernelspec": {
   "display_name": "Python 3",
   "language": "python",
   "name": "python3"
  },
  "language_info": {
   "codemirror_mode": {
    "name": "ipython",
    "version": 3
   },
   "file_extension": ".py",
   "mimetype": "text/x-python",
   "name": "python",
   "nbconvert_exporter": "python",
   "pygments_lexer": "ipython3",
   "version": "3.8.8"
  }
 },
 "nbformat": 4,
 "nbformat_minor": 5
}
