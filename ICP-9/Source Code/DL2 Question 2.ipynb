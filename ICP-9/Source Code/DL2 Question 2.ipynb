{
 "cells": [
  {
   "cell_type": "markdown",
   "id": "chemical-trading",
   "metadata": {},
   "source": [
    "## DL2 - Question 2\n",
    "#### Plot one of the images in the test data, and then do inferencing to check what isthe prediction of the model on that single image\n",
    "(https://umkc.box.com/s/10nrlk6216fncengv7qxbbw5o9vgc3hs"
   ]
  },
  {
   "cell_type": "code",
   "execution_count": 1,
   "id": "separated-anatomy",
   "metadata": {},
   "outputs": [],
   "source": [
    "# Importing the libraries\n",
    "from keras import Sequential\n",
    "from keras.datasets import mnist\n",
    "import numpy as np\n",
    "import matplotlib.pyplot as plt\n",
    "from keras.layers import Dense\n",
    "from keras.utils import to_categorical"
   ]
  },
  {
   "cell_type": "code",
   "execution_count": 2,
   "id": "following-highland",
   "metadata": {},
   "outputs": [
    {
     "data": {
      "image/png": "[encoded data removed]",
      "text/plain": [
       "<Figure size 432x288 with 1 Axes>"
      ]
     },
     "metadata": {
      "needs_background": "light"
     },
     "output_type": "display_data"
    }
   ],
   "source": [
    "#loading the train and test data \n",
    "(train_images,train_labels),(test_images, test_labels) = mnist.load_data()\n",
    "\n",
    "#display the first image in the training data\n",
    "plt.imshow(train_images[0,:,:],cmap='gray')\n",
    "plt.title('Ground Truth : {}'.format(train_labels[0]))\n",
    "plt.show()"
   ]
  },
  {
   "cell_type": "code",
   "execution_count": 3,
   "id": "twelve-romantic",
   "metadata": {},
   "outputs": [],
   "source": [
    "#process the data\n",
    "#1. convert each image of shape 28*28 to 784 dimensional which will be fed to the network as a single feature\n",
    "dimData = np.prod(train_images.shape[1:])\n",
    "train_data = train_images.reshape(train_images.shape[0],dimData)\n",
    "test_data = test_images.reshape(test_images.shape[0],dimData)"
   ]
  },
  {
   "cell_type": "code",
   "execution_count": 4,
   "id": "brilliant-charter",
   "metadata": {},
   "outputs": [],
   "source": [
    "#convert data to float and scale values between 0 and 1\n",
    "train_data = train_data.astype('float')\n",
    "test_data = test_data.astype('float')\n",
    "#scale data\n",
    "train_data /=255.0\n",
    "test_data /=255.0"
   ]
  },
  {
   "cell_type": "code",
   "execution_count": 5,
   "id": "stuffed-pickup",
   "metadata": {},
   "outputs": [],
   "source": [
    "#change the labels from integer to one-hot encoding\n",
    "train_labels_one_hot = to_categorical(train_labels)\n",
    "test_labels_one_hot = to_categorical(test_labels)"
   ]
  },
  {
   "cell_type": "code",
   "execution_count": 6,
   "id": "parental-fireplace",
   "metadata": {},
   "outputs": [],
   "source": [
    "#creating network\n",
    "model = Sequential()\n",
    "model.add(Dense(512, activation='relu', input_shape=(dimData,)))\n",
    "model.add(Dense(512, activation='relu'))\n",
    "model.add(Dense(10, activation='softmax'))"
   ]
  },
  {
   "cell_type": "code",
   "execution_count": 7,
   "id": "forbidden-huntington",
   "metadata": {},
   "outputs": [
    {
     "name": "stdout",
     "output_type": "stream",
     "text": [
      "Epoch 1/20\n",
      "235/235 [==============================] - 18s 79ms/step - loss: 0.2714 - accuracy: 0.9157 - val_loss: 0.1153 - val_accuracy: 0.9617\n",
      "Epoch 2/20\n",
      "235/235 [==============================] - 16s 69ms/step - loss: 0.0938 - accuracy: 0.9704 - val_loss: 0.0874 - val_accuracy: 0.9717\n",
      "Epoch 3/20\n",
      "235/235 [==============================] - 16s 68ms/step - loss: 0.0576 - accuracy: 0.9816 - val_loss: 0.0795 - val_accuracy: 0.9744\n",
      "Epoch 4/20\n",
      "235/235 [==============================] - 16s 67ms/step - loss: 0.0396 - accuracy: 0.9876 - val_loss: 0.0755 - val_accuracy: 0.9780\n",
      "Epoch 5/20\n",
      "235/235 [==============================] - 16s 70ms/step - loss: 0.0288 - accuracy: 0.9908 - val_loss: 0.0762 - val_accuracy: 0.9796\n",
      "Epoch 6/20\n",
      "235/235 [==============================] - 16s 70ms/step - loss: 0.0204 - accuracy: 0.9935 - val_loss: 0.0808 - val_accuracy: 0.9795\n",
      "Epoch 7/20\n",
      "235/235 [==============================] - 16s 70ms/step - loss: 0.0171 - accuracy: 0.9944 - val_loss: 0.0809 - val_accuracy: 0.9793\n",
      "Epoch 8/20\n",
      "235/235 [==============================] - 16s 68ms/step - loss: 0.0123 - accuracy: 0.9960 - val_loss: 0.0888 - val_accuracy: 0.9803\n",
      "Epoch 9/20\n",
      "235/235 [==============================] - 16s 67ms/step - loss: 0.0105 - accuracy: 0.9965 - val_loss: 0.0817 - val_accuracy: 0.9826\n",
      "Epoch 10/20\n",
      "235/235 [==============================] - 16s 68ms/step - loss: 0.0097 - accuracy: 0.9966 - val_loss: 0.0991 - val_accuracy: 0.9812\n",
      "Epoch 11/20\n",
      "235/235 [==============================] - 18s 78ms/step - loss: 0.0085 - accuracy: 0.9974 - val_loss: 0.0897 - val_accuracy: 0.9828\n",
      "Epoch 12/20\n",
      "235/235 [==============================] - 18s 78ms/step - loss: 0.0073 - accuracy: 0.9975 - val_loss: 0.1212 - val_accuracy: 0.9802\n",
      "Epoch 13/20\n",
      "235/235 [==============================] - 17s 72ms/step - loss: 0.0063 - accuracy: 0.9981 - val_loss: 0.1417 - val_accuracy: 0.9783\n",
      "Epoch 14/20\n",
      "235/235 [==============================] - 17s 74ms/step - loss: 0.0072 - accuracy: 0.9980 - val_loss: 0.0991 - val_accuracy: 0.9830\n",
      "Epoch 15/20\n",
      "235/235 [==============================] - 16s 68ms/step - loss: 0.0055 - accuracy: 0.9981 - val_loss: 0.1247 - val_accuracy: 0.9806\n",
      "Epoch 16/20\n",
      "235/235 [==============================] - 15s 66ms/step - loss: 0.0044 - accuracy: 0.9986 - val_loss: 0.1378 - val_accuracy: 0.9797\n",
      "Epoch 17/20\n",
      "235/235 [==============================] - 16s 68ms/step - loss: 0.0042 - accuracy: 0.9987 - val_loss: 0.1369 - val_accuracy: 0.9807\n",
      "Epoch 18/20\n",
      "235/235 [==============================] - 16s 67ms/step - loss: 0.0047 - accuracy: 0.9984 - val_loss: 0.1156 - val_accuracy: 0.9839\n",
      "Epoch 19/20\n",
      "235/235 [==============================] - 16s 66ms/step - loss: 0.0044 - accuracy: 0.9988 - val_loss: 0.1393 - val_accuracy: 0.9826\n",
      "Epoch 20/20\n",
      "235/235 [==============================] - 16s 68ms/step - loss: 0.0039 - accuracy: 0.9986 - val_loss: 0.1152 - val_accuracy: 0.9837\n"
     ]
    }
   ],
   "source": [
    "model.compile(optimizer='rmsprop', loss='categorical_crossentropy', metrics=['accuracy'])\n",
    "history = model.fit(train_data, train_labels_one_hot, batch_size=256, epochs=20, verbose=1,validation_data=(test_data, test_labels_one_hot))"
   ]
  },
  {
   "cell_type": "code",
   "execution_count": 8,
   "id": "overhead-rider",
   "metadata": {},
   "outputs": [
    {
     "name": "stdout",
     "output_type": "stream",
     "text": [
      "313/313 [==============================] - 3s 9ms/step - loss: 0.1152 - accuracy: 0.9837\n",
      "Evaluation result on Test Data : Loss = 0.11516662687063217, accuracy = 0.9836999773979187\n"
     ]
    }
   ],
   "source": [
    "[test_loss, test_acc] = model.evaluate(test_data, test_labels_one_hot)\n",
    "print(\"Evaluation result on Test Data : Loss = {}, accuracy = {}\".format(test_loss, test_acc))"
   ]
  },
  {
   "cell_type": "code",
   "execution_count": 13,
   "id": "retired-saint",
   "metadata": {},
   "outputs": [
    {
     "data": {
      "image/png": "[encoded data removed]",
      "text/plain": [
       "<Figure size 432x288 with 1 Axes>"
      ]
     },
     "metadata": {
      "needs_background": "light"
     },
     "output_type": "display_data"
    },
    {
     "name": "stdout",
     "output_type": "stream",
     "text": [
      "Image ater predection: 6\n"
     ]
    }
   ],
   "source": [
    "#Plotting one of the images in the test data, and then do inferencing to check what is the prediction of the model.\n",
    "image_index = 130 #Taking random image\n",
    "plt.imshow(test_data[image_index].reshape(28, 28),cmap='Blues')\n",
    "plt.title(\"Random image from test data\")\n",
    "plt.show()\n",
    "\n",
    "#Predecting the image \n",
    "pred = model.predict(test_data[image_index].reshape(1,784))\n",
    "print(\"Image ater predection:\",pred.argmax())"
   ]
  }
 ],
 "metadata": {
  "kernelspec": {
   "display_name": "Python 3",
   "language": "python",
   "name": "python3"
  },
  "language_info": {
   "codemirror_mode": {
    "name": "ipython",
    "version": 3
   },
   "file_extension": ".py",
   "mimetype": "text/x-python",
   "name": "python",
   "nbconvert_exporter": "python",
   "pygments_lexer": "ipython3",
   "version": "3.8.8"
  }
 },
 "nbformat": 4,
 "nbformat_minor": 5
}
